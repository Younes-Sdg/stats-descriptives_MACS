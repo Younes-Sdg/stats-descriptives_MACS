{
 "cells": [
  {
   "cell_type": "markdown",
   "id": "6c0eb24c-7982-4583-b452-46b82fcadb1c",
   "metadata": {},
   "source": [
    "# <center>**Dask pour le traitement des données**</center>"
   ]
  },
  {
   "cell_type": "markdown",
   "id": "87f7c668-1d92-4b8f-8c32-1bfca0a1ece2",
   "metadata": {},
   "source": [
    "Le traitement des données, en particulier pour les grands jeux de données, nécessite des outils puissants. Dask et PySpark sont deux des outils les plus populaires de l'écosystème Python pour le traitement scalable des données. Dans ce notebook, nous allons explorer Dask, en vous fournissant des exemples pratiques et des réflexions sur quand et comment l'utiliser."
   ]
  },
  {
   "cell_type": "markdown",
   "id": "acf7bbdc-c008-48bc-8365-685bc25e596f",
   "metadata": {
    "jp-MarkdownHeadingCollapsed": true,
    "tags": []
   },
   "source": [
    "# **Requirements**"
   ]
  },
  {
   "cell_type": "markdown",
   "id": "d996dd4a-f7cb-45fb-9d39-e6b9148b9d1c",
   "metadata": {
    "tags": []
   },
   "source": [
    "**Fichiers de données :** Aircraft_01.h5.zip, Aircraft_02.h5.zip, Aircraft_03.h5.zip, vol01.csv"
   ]
  },
  {
   "cell_type": "markdown",
   "id": "a4a5e09d-49fd-460d-896e-7d6108ba13ea",
   "metadata": {
    "jp-MarkdownHeadingCollapsed": true,
    "tags": []
   },
   "source": [
    "# **Concepts de base**"
   ]
  },
  {
   "cell_type": "markdown",
   "id": "b80709da-768d-4120-a609-4ab6cf52826c",
   "metadata": {
    "tags": []
   },
   "source": [
    "### **1. Introduction**"
   ]
  },
  {
   "cell_type": "markdown",
   "id": "7d2302e9-2717-42a8-9649-2cf631b2fe42",
   "metadata": {},
   "source": [
    "**Qu'est-ce que Dask ?**\n",
    "\n",
    "Dask est une bibliothèque de calcul parallèle flexible pour l'analyse des données, permettant aux utilisateurs d'exploiter toute la puissance de leur CPU et de leur mémoire sans avoir besoin d'un cluster.\n",
    "\n",
    "**Caractéristiques principales :**\n",
    "\n",
    "- Planification dynamique des tâches.\n",
    "- S'intègre bien avec les bibliothèques Python populaires telles que Pandas et Numpy.\n",
    "- Permet d'utiliser Dask DataFrame, qui est similaire à Pandas mais fonctionne sur des ensembles de données plus grands que la mémoire."
   ]
  },
  {
   "cell_type": "markdown",
   "id": "239a444e-a48a-4a2b-809a-70c677e2ef35",
   "metadata": {},
   "source": [
    "**Installer Dask :**"
   ]
  },
  {
   "cell_type": "code",
   "execution_count": 2,
   "id": "caf3b2d5-477e-4299-aae3-11c135a7a0d3",
   "metadata": {},
   "outputs": [
    {
     "name": "stdout",
     "output_type": "stream",
     "text": [
      "Requirement already satisfied: dask[complete] in c:\\users\\younes\\appdata\\local\\programs\\python\\python312\\lib\\site-packages (2024.9.1)\n",
      "Requirement already satisfied: click>=8.1 in c:\\users\\younes\\appdata\\local\\programs\\python\\python312\\lib\\site-packages (from dask[complete]) (8.1.7)\n",
      "Requirement already satisfied: cloudpickle>=3.0.0 in c:\\users\\younes\\appdata\\local\\programs\\python\\python312\\lib\\site-packages (from dask[complete]) (3.0.0)\n",
      "Requirement already satisfied: fsspec>=2021.09.0 in c:\\users\\younes\\appdata\\local\\programs\\python\\python312\\lib\\site-packages (from dask[complete]) (2024.3.1)\n",
      "Requirement already satisfied: packaging>=20.0 in c:\\users\\younes\\appdata\\roaming\\python\\python312\\site-packages (from dask[complete]) (23.2)\n",
      "Requirement already satisfied: partd>=1.4.0 in c:\\users\\younes\\appdata\\local\\programs\\python\\python312\\lib\\site-packages (from dask[complete]) (1.4.2)\n",
      "Requirement already satisfied: pyyaml>=5.3.1 in c:\\users\\younes\\appdata\\local\\programs\\python\\python312\\lib\\site-packages (from dask[complete]) (6.0.1)\n",
      "Requirement already satisfied: toolz>=0.10.0 in c:\\users\\younes\\appdata\\local\\programs\\python\\python312\\lib\\site-packages (from dask[complete]) (0.12.1)\n",
      "Requirement already satisfied: pyarrow>=14.0.1 in c:\\users\\younes\\appdata\\local\\programs\\python\\python312\\lib\\site-packages (from dask[complete]) (17.0.0)\n",
      "Requirement already satisfied: lz4>=4.3.2 in c:\\users\\younes\\appdata\\local\\programs\\python\\python312\\lib\\site-packages (from dask[complete]) (4.3.3)\n",
      "Requirement already satisfied: colorama in c:\\users\\younes\\appdata\\roaming\\python\\python312\\site-packages (from click>=8.1->dask[complete]) (0.4.6)\n",
      "Requirement already satisfied: locket in c:\\users\\younes\\appdata\\local\\programs\\python\\python312\\lib\\site-packages (from partd>=1.4.0->dask[complete]) (1.0.0)\n",
      "Requirement already satisfied: numpy>=1.16.6 in c:\\users\\younes\\appdata\\local\\programs\\python\\python312\\lib\\site-packages (from pyarrow>=14.0.1->dask[complete]) (1.26.3)\n",
      "Requirement already satisfied: pandas>=2.0 in c:\\users\\younes\\appdata\\local\\programs\\python\\python312\\lib\\site-packages (from dask[complete]) (2.2.1)\n",
      "Requirement already satisfied: dask-expr<1.2,>=1.1 in c:\\users\\younes\\appdata\\local\\programs\\python\\python312\\lib\\site-packages (from dask[complete]) (1.1.15)\n",
      "Requirement already satisfied: bokeh>=3.1.0 in c:\\users\\younes\\appdata\\local\\programs\\python\\python312\\lib\\site-packages (from dask[complete]) (3.6.0)\n",
      "Requirement already satisfied: jinja2>=2.10.3 in c:\\users\\younes\\appdata\\local\\programs\\python\\python312\\lib\\site-packages (from dask[complete]) (3.1.3)\n",
      "Requirement already satisfied: distributed==2024.9.1 in c:\\users\\younes\\appdata\\local\\programs\\python\\python312\\lib\\site-packages (from dask[complete]) (2024.9.1)\n",
      "Requirement already satisfied: msgpack>=1.0.2 in c:\\users\\younes\\appdata\\local\\programs\\python\\python312\\lib\\site-packages (from distributed==2024.9.1->dask[complete]) (1.1.0)\n",
      "Requirement already satisfied: psutil>=5.8.0 in c:\\users\\younes\\appdata\\roaming\\python\\python312\\site-packages (from distributed==2024.9.1->dask[complete]) (5.9.8)\n",
      "Requirement already satisfied: sortedcontainers>=2.0.5 in c:\\users\\younes\\appdata\\local\\programs\\python\\python312\\lib\\site-packages (from distributed==2024.9.1->dask[complete]) (2.4.0)\n",
      "Requirement already satisfied: tblib>=1.6.0 in c:\\users\\younes\\appdata\\local\\programs\\python\\python312\\lib\\site-packages (from distributed==2024.9.1->dask[complete]) (3.0.0)\n",
      "Requirement already satisfied: tornado>=6.2.0 in c:\\users\\younes\\appdata\\roaming\\python\\python312\\site-packages (from distributed==2024.9.1->dask[complete]) (6.4)\n",
      "Requirement already satisfied: urllib3>=1.26.5 in c:\\users\\younes\\appdata\\local\\programs\\python\\python312\\lib\\site-packages (from distributed==2024.9.1->dask[complete]) (2.2.1)\n",
      "Requirement already satisfied: zict>=3.0.0 in c:\\users\\younes\\appdata\\local\\programs\\python\\python312\\lib\\site-packages (from distributed==2024.9.1->dask[complete]) (3.0.0)\n",
      "Requirement already satisfied: contourpy>=1.2 in c:\\users\\younes\\appdata\\local\\programs\\python\\python312\\lib\\site-packages (from bokeh>=3.1.0->dask[complete]) (1.2.0)\n",
      "Requirement already satisfied: pillow>=7.1.0 in c:\\users\\younes\\appdata\\local\\programs\\python\\python312\\lib\\site-packages (from bokeh>=3.1.0->dask[complete]) (10.2.0)\n",
      "Requirement already satisfied: xyzservices>=2021.09.1 in c:\\users\\younes\\appdata\\local\\programs\\python\\python312\\lib\\site-packages (from bokeh>=3.1.0->dask[complete]) (2024.4.0)\n",
      "Requirement already satisfied: MarkupSafe>=2.0 in c:\\users\\younes\\appdata\\local\\programs\\python\\python312\\lib\\site-packages (from jinja2>=2.10.3->dask[complete]) (2.1.5)\n",
      "Requirement already satisfied: python-dateutil>=2.8.2 in c:\\users\\younes\\appdata\\roaming\\python\\python312\\site-packages (from pandas>=2.0->dask[complete]) (2.8.2)\n",
      "Requirement already satisfied: pytz>=2020.1 in c:\\users\\younes\\appdata\\local\\programs\\python\\python312\\lib\\site-packages (from pandas>=2.0->dask[complete]) (2024.1)\n",
      "Requirement already satisfied: tzdata>=2022.7 in c:\\users\\younes\\appdata\\local\\programs\\python\\python312\\lib\\site-packages (from pandas>=2.0->dask[complete]) (2024.1)\n",
      "Requirement already satisfied: six>=1.5 in c:\\users\\younes\\appdata\\roaming\\python\\python312\\site-packages (from python-dateutil>=2.8.2->pandas>=2.0->dask[complete]) (1.16.0)\n"
     ]
    }
   ],
   "source": [
    "!pip install dask[complete]"
   ]
  },
  {
   "cell_type": "markdown",
   "id": "96c16442-5328-4ac1-a862-3b659ffc24a1",
   "metadata": {},
   "source": [
    "**Importer Dask :**"
   ]
  },
  {
   "cell_type": "code",
   "execution_count": 3,
   "id": "fba098ea-7680-4ea0-ab4d-18e2ae94233c",
   "metadata": {
    "tags": []
   },
   "outputs": [],
   "source": [
    "import dask.dataframe as dd"
   ]
  },
  {
   "cell_type": "markdown",
   "id": "09a7564a-23bf-4e35-904d-79499f9b6525",
   "metadata": {
    "tags": []
   },
   "source": [
    "### **2. Dask Client et Ordonnanceurs (Schedulers)**"
   ]
  },
  {
   "cell_type": "markdown",
   "id": "14efe1b4-25a9-4a1a-873c-e2ea3c4df7d4",
   "metadata": {},
   "source": [
    "#### **Dask Client :**\n",
    "Lorsque vous initialisez un `Client` sans arguments, cela met en place un cluster Dask local utilisant l'ordonnanceur distribué. Cela signifie que, même s'il est local (sur votre machine), il tire parti des avantages des capacités de calcul distribué de Dask. Voici deux scénarios différents d'utilisation de l'ordonnanceur distribué de Dask :\n",
    "   \n",
    "##### **Cluster Local (Machine unique) :**\n",
    "Dans ce contexte, \"distribué\" ne signifie pas que les tâches sont réparties entre différentes machines, mais plutôt que les tâches peuvent être distribuées sur tous les cœurs ou threads de votre machine unique. Cela permet des fonctionnalités de parallélisme avancées, des calculs asynchrones et donne accès à un tableau de bord web pour des informations diagnostiques. C'est ce qui se passe lorsque vous utilisez `Client()` sans vous connecter à un cluster externe.\n",
    "\n",
    "##### **Cluster Distribué (Plusieurs machines) :**\n",
    "Dask peut être configuré pour fonctionner sur un cluster de plusieurs machines, où les calculs sont vraiment distribués sur différents nœuds du cluster. Ceci est utile pour des jeux de données très volumineux ou des tâches nécessitant beaucoup de calculs, où les ressources d'une seule machine seraient insuffisantes.\n",
    "\n",
    "#### **Paramètres par défaut avec `Client()` :**\n",
    "- **Ouvriers (Workers)** : Équivalent au nombre de cœurs physiques sur votre machine.\n",
    "- **Threads par ouvrier** : 1 thread par défaut.\n",
    "- **Limite de mémoire** : Une fraction de votre mémoire totale disponible est utilisée pour chaque ouvrier.\n",
    "\n",
    "#### **Sans l'initialisation du Client :**\n",
    "Dask utilise par défaut l'ordonnanceur à base de threads pour les opérations. Il s'agit d'un ordonnanceur interne utilisant un pool de threads de taille fixe. Cela signifie que vous n'utilisez pas les capacités distribuées, mais exécutez plutôt des calculs en parallèle en utilisant des threads sur votre machine locale.\n",
    "\n",
    "#### **Ordonnanceurs :**\n",
    "Dask prend en charge divers ordonnanceurs (à base de threads, multiprocessing, distribué). Le choix de l'ordonnanceur détermine comment Dask exécute les calculs parallèles. En utilisant un `Client`, vous optez pour l'ordonnanceur distribué, même si tous les calculs sont effectués uniquement sur votre machine locale.\n",
    "\n",
    "En utilisant un `Client`, vous obtenez non seulement l'accès à l'ordonnanceur distribué, mais aussi à des outils supplémentaires comme le tableau de bord diagnostique de Dask, qui est utile pour surveiller et débuguer des calculs parallèles."
   ]
  },
  {
   "cell_type": "code",
   "execution_count": 4,
   "id": "226929e8-cb11-4e37-9389-544b92b3050a",
   "metadata": {
    "tags": []
   },
   "outputs": [
    {
     "name": "stdout",
     "output_type": "stream",
     "text": [
      "Vous avez 16 coeurs disponibles.\n",
      "<Client: 'tcp://127.0.0.1:57802' processes=16 threads=16, memory=15.86 GiB>\n"
     ]
    },
    {
     "name": "stderr",
     "output_type": "stream",
     "text": [
      "2024-10-16 20:28:05,583 - distributed.scheduler - WARNING - Worker failed to heartbeat for 748s; attempting restart: <WorkerState 'tcp://127.0.0.1:57864', name: 11, status: running, memory: 0, processing: 0>\n",
      "2024-10-16 20:28:05,585 - distributed.scheduler - WARNING - Worker failed to heartbeat for 748s; attempting restart: <WorkerState 'tcp://127.0.0.1:57865', name: 3, status: running, memory: 0, processing: 0>\n",
      "2024-10-16 20:28:05,586 - distributed.scheduler - WARNING - Worker failed to heartbeat for 748s; attempting restart: <WorkerState 'tcp://127.0.0.1:57868', name: 8, status: running, memory: 0, processing: 0>\n",
      "2024-10-16 20:28:05,586 - distributed.scheduler - WARNING - Worker failed to heartbeat for 748s; attempting restart: <WorkerState 'tcp://127.0.0.1:57869', name: 13, status: running, memory: 0, processing: 0>\n",
      "2024-10-16 20:28:05,587 - distributed.scheduler - WARNING - Worker failed to heartbeat for 748s; attempting restart: <WorkerState 'tcp://127.0.0.1:57870', name: 14, status: running, memory: 1, processing: 0>\n",
      "2024-10-16 20:28:05,587 - distributed.scheduler - WARNING - Worker failed to heartbeat for 748s; attempting restart: <WorkerState 'tcp://127.0.0.1:57871', name: 10, status: running, memory: 0, processing: 0>\n",
      "2024-10-16 20:28:05,587 - distributed.scheduler - WARNING - Worker failed to heartbeat for 748s; attempting restart: <WorkerState 'tcp://127.0.0.1:57874', name: 5, status: running, memory: 0, processing: 0>\n",
      "2024-10-16 20:28:05,587 - distributed.scheduler - WARNING - Worker failed to heartbeat for 748s; attempting restart: <WorkerState 'tcp://127.0.0.1:57875', name: 7, status: running, memory: 0, processing: 0>\n",
      "2024-10-16 20:28:05,587 - distributed.scheduler - WARNING - Worker failed to heartbeat for 748s; attempting restart: <WorkerState 'tcp://127.0.0.1:57876', name: 4, status: running, memory: 0, processing: 0>\n",
      "2024-10-16 20:28:05,587 - distributed.scheduler - WARNING - Worker failed to heartbeat for 748s; attempting restart: <WorkerState 'tcp://127.0.0.1:57879', name: 15, status: running, memory: 0, processing: 0>\n",
      "2024-10-16 20:28:05,590 - distributed.scheduler - WARNING - Worker failed to heartbeat for 748s; attempting restart: <WorkerState 'tcp://127.0.0.1:57882', name: 1, status: running, memory: 0, processing: 0>\n",
      "2024-10-16 20:28:05,590 - distributed.scheduler - WARNING - Worker failed to heartbeat for 748s; attempting restart: <WorkerState 'tcp://127.0.0.1:57883', name: 2, status: running, memory: 0, processing: 0>\n",
      "2024-10-16 20:28:05,590 - distributed.scheduler - WARNING - Worker failed to heartbeat for 748s; attempting restart: <WorkerState 'tcp://127.0.0.1:57884', name: 12, status: running, memory: 0, processing: 0>\n",
      "2024-10-16 20:28:05,590 - distributed.scheduler - WARNING - Worker failed to heartbeat for 748s; attempting restart: <WorkerState 'tcp://127.0.0.1:57887', name: 9, status: running, memory: 0, processing: 0>\n",
      "2024-10-16 20:28:05,590 - distributed.scheduler - WARNING - Worker failed to heartbeat for 748s; attempting restart: <WorkerState 'tcp://127.0.0.1:57888', name: 0, status: running, memory: 0, processing: 0>\n",
      "2024-10-16 20:28:05,630 - distributed.scheduler - WARNING - Removing worker 'tcp://127.0.0.1:57870' caused the cluster to lose already computed task(s), which will be recomputed elsewhere: {('getitem-efea0fbd58e56bcfb7ef4c4f86b83476', 0)} (stimulus_id='handle-worker-cleanup-1729103285.6307864')\n",
      "2024-10-16 20:28:07,240 - distributed.nanny - WARNING - Restarting worker\n",
      "2024-10-16 20:28:07,243 - distributed.nanny - WARNING - Restarting worker\n",
      "2024-10-16 20:28:07,246 - distributed.nanny - WARNING - Restarting worker\n",
      "2024-10-16 20:28:07,249 - distributed.nanny - WARNING - Restarting worker\n",
      "2024-10-16 20:28:07,254 - distributed.nanny - WARNING - Restarting worker\n",
      "2024-10-16 20:28:07,263 - distributed.nanny - WARNING - Restarting worker\n",
      "2024-10-16 20:28:07,267 - distributed.nanny - WARNING - Restarting worker\n",
      "2024-10-16 20:28:07,273 - distributed.nanny - WARNING - Restarting worker\n",
      "2024-10-16 20:28:07,278 - distributed.nanny - WARNING - Restarting worker\n",
      "2024-10-16 20:28:07,284 - distributed.nanny - WARNING - Restarting worker\n",
      "2024-10-16 20:28:07,290 - distributed.nanny - WARNING - Restarting worker\n",
      "2024-10-16 20:28:07,298 - distributed.nanny - WARNING - Restarting worker\n",
      "2024-10-16 20:28:07,306 - distributed.nanny - WARNING - Restarting worker\n",
      "2024-10-16 20:28:07,717 - distributed.nanny - WARNING - Restarting worker\n",
      "2024-10-16 20:28:07,790 - distributed.nanny - WARNING - Restarting worker\n",
      "2024-10-16 21:57:23,586 - distributed.scheduler - WARNING - Worker failed to heartbeat for 620s; attempting restart: <WorkerState 'tcp://127.0.0.1:57857', name: 6, status: running, memory: 1, processing: 0>\n",
      "2024-10-16 21:57:23,596 - distributed.scheduler - WARNING - Worker failed to heartbeat for 620s; attempting restart: <WorkerState 'tcp://127.0.0.1:58486', name: 9, status: running, memory: 0, processing: 0>\n",
      "2024-10-16 21:57:23,596 - distributed.scheduler - WARNING - Worker failed to heartbeat for 620s; attempting restart: <WorkerState 'tcp://127.0.0.1:58487', name: 1, status: running, memory: 0, processing: 0>\n",
      "2024-10-16 21:57:23,596 - distributed.scheduler - WARNING - Worker failed to heartbeat for 620s; attempting restart: <WorkerState 'tcp://127.0.0.1:58488', name: 5, status: running, memory: 0, processing: 0>\n",
      "2024-10-16 21:57:23,599 - distributed.scheduler - WARNING - Worker failed to heartbeat for 620s; attempting restart: <WorkerState 'tcp://127.0.0.1:58489', name: 10, status: running, memory: 0, processing: 0>\n",
      "2024-10-16 21:57:23,600 - distributed.scheduler - WARNING - Worker failed to heartbeat for 620s; attempting restart: <WorkerState 'tcp://127.0.0.1:58490', name: 11, status: running, memory: 0, processing: 0>\n",
      "2024-10-16 21:57:23,600 - distributed.scheduler - WARNING - Worker failed to heartbeat for 620s; attempting restart: <WorkerState 'tcp://127.0.0.1:58491', name: 8, status: running, memory: 0, processing: 0>\n",
      "2024-10-16 21:57:23,600 - distributed.scheduler - WARNING - Worker failed to heartbeat for 620s; attempting restart: <WorkerState 'tcp://127.0.0.1:58492', name: 14, status: running, memory: 0, processing: 0>\n",
      "2024-10-16 21:57:23,600 - distributed.scheduler - WARNING - Worker failed to heartbeat for 620s; attempting restart: <WorkerState 'tcp://127.0.0.1:58493', name: 2, status: running, memory: 0, processing: 0>\n",
      "2024-10-16 21:57:23,600 - distributed.scheduler - WARNING - Worker failed to heartbeat for 620s; attempting restart: <WorkerState 'tcp://127.0.0.1:58494', name: 15, status: running, memory: 0, processing: 0>\n",
      "2024-10-16 21:57:23,600 - distributed.scheduler - WARNING - Worker failed to heartbeat for 620s; attempting restart: <WorkerState 'tcp://127.0.0.1:58495', name: 4, status: running, memory: 0, processing: 0>\n",
      "2024-10-16 21:57:23,600 - distributed.scheduler - WARNING - Worker failed to heartbeat for 620s; attempting restart: <WorkerState 'tcp://127.0.0.1:58496', name: 13, status: running, memory: 0, processing: 0>\n",
      "2024-10-16 21:57:23,600 - distributed.scheduler - WARNING - Worker failed to heartbeat for 620s; attempting restart: <WorkerState 'tcp://127.0.0.1:58497', name: 7, status: running, memory: 0, processing: 0>\n",
      "2024-10-16 21:57:23,604 - distributed.scheduler - WARNING - Worker failed to heartbeat for 620s; attempting restart: <WorkerState 'tcp://127.0.0.1:58498', name: 3, status: running, memory: 0, processing: 0>\n",
      "2024-10-16 21:57:23,605 - distributed.scheduler - WARNING - Worker failed to heartbeat for 620s; attempting restart: <WorkerState 'tcp://127.0.0.1:58499', name: 0, status: running, memory: 0, processing: 0>\n",
      "2024-10-16 21:57:23,606 - distributed.scheduler - WARNING - Worker failed to heartbeat for 620s; attempting restart: <WorkerState 'tcp://127.0.0.1:58500', name: 12, status: running, memory: 0, processing: 0>\n",
      "2024-10-16 21:57:23,757 - distributed.scheduler - WARNING - Removing worker 'tcp://127.0.0.1:57857' caused the cluster to lose already computed task(s), which will be recomputed elsewhere: {('getitem-efea0fbd58e56bcfb7ef4c4f86b83476', 0)} (stimulus_id='handle-worker-cleanup-1729108643.7556617')\n",
      "2024-10-16 21:57:24,922 - distributed.nanny - WARNING - Restarting worker\n",
      "2024-10-16 21:57:24,935 - distributed.nanny - WARNING - Restarting worker\n",
      "2024-10-16 21:57:24,966 - distributed.nanny - WARNING - Restarting worker\n",
      "2024-10-16 21:57:24,966 - distributed.nanny - WARNING - Restarting worker\n",
      "2024-10-16 21:57:24,972 - distributed.nanny - WARNING - Restarting worker\n",
      "2024-10-16 21:57:24,972 - distributed.nanny - WARNING - Restarting worker\n",
      "2024-10-16 21:57:24,983 - distributed.nanny - WARNING - Restarting worker\n",
      "2024-10-16 21:57:24,998 - distributed.nanny - WARNING - Restarting worker\n",
      "2024-10-16 21:57:25,004 - distributed.nanny - WARNING - Restarting worker\n",
      "2024-10-16 21:57:25,014 - distributed.nanny - WARNING - Restarting worker\n",
      "2024-10-16 21:57:25,049 - distributed.nanny - WARNING - Restarting worker\n",
      "2024-10-16 21:57:25,072 - distributed.nanny - WARNING - Restarting worker\n",
      "2024-10-16 21:57:25,083 - distributed.nanny - WARNING - Restarting worker\n",
      "2024-10-16 21:57:25,093 - distributed.nanny - WARNING - Restarting worker\n",
      "2024-10-16 21:57:25,093 - distributed.nanny - WARNING - Restarting worker\n",
      "2024-10-16 21:57:25,114 - distributed.nanny - WARNING - Restarting worker\n"
     ]
    }
   ],
   "source": [
    "import os \n",
    "from dask.distributed import Client\n",
    "\n",
    "num_cores = os.cpu_count()\n",
    "print(f\"Vous avez {num_cores} coeurs disponibles.\")\n",
    "\n",
    "# Créer un client Dask avec autant de workers que de cœurs\n",
    "client = Client(n_workers=num_cores)\n",
    "\n",
    "# OU spécifier d'autres paramètres\n",
    "# client = Client(n_workers=num_cores, threads_per_worker=1, memory_limit=\"2GB\")\n",
    "\n",
    "print(client)"
   ]
  },
  {
   "cell_type": "markdown",
   "id": "1cdc81ea-4b3e-458c-bdb3-f7f033177e5a",
   "metadata": {
    "tags": []
   },
   "source": [
    "### **3. Usage basique**"
   ]
  },
  {
   "cell_type": "markdown",
   "id": "8a222a63-1306-4d19-b60c-6b877ed0e5e9",
   "metadata": {
    "tags": []
   },
   "source": [
    "**Lire un fichier CSV :**"
   ]
  },
  {
   "cell_type": "code",
   "execution_count": 5,
   "id": "e95502da-f72b-4802-b4e5-a096c5f4b1b0",
   "metadata": {
    "tags": []
   },
   "outputs": [],
   "source": [
    "df = dd.read_csv('vol01.csv')"
   ]
  },
  {
   "cell_type": "markdown",
   "id": "6e6e889a-31d3-404f-ae62-5a6d131c1adb",
   "metadata": {
    "tags": []
   },
   "source": [
    "**Les opérations sont paresseuses (elles ne sont pas calculées immédiatement)**"
   ]
  },
  {
   "cell_type": "code",
   "execution_count": 6,
   "id": "ea01a220-9011-4e9e-94bb-27f320bea6ee",
   "metadata": {
    "tags": []
   },
   "outputs": [],
   "source": [
    "result = df.groupby('ALT [ft]').mean()"
   ]
  },
  {
   "cell_type": "markdown",
   "id": "2adbe2c6-4833-4d3e-8326-7372f6b4c5a3",
   "metadata": {},
   "source": [
    "**Calculer le résultat :**"
   ]
  },
  {
   "cell_type": "code",
   "execution_count": 7,
   "id": "31438fd9-abde-4c0a-925a-6f92869e2bfc",
   "metadata": {
    "tags": []
   },
   "outputs": [
    {
     "data": {
      "text/html": [
       "<div>\n",
       "<style scoped>\n",
       "    .dataframe tbody tr th:only-of-type {\n",
       "        vertical-align: middle;\n",
       "    }\n",
       "\n",
       "    .dataframe tbody tr th {\n",
       "        vertical-align: top;\n",
       "    }\n",
       "\n",
       "    .dataframe thead th {\n",
       "        text-align: right;\n",
       "    }\n",
       "</style>\n",
       "<table border=\"1\" class=\"dataframe\">\n",
       "  <thead>\n",
       "    <tr style=\"text-align: right;\">\n",
       "      <th></th>\n",
       "      <th>EGT_1 [deg C]</th>\n",
       "      <th>EGT_2 [deg C]</th>\n",
       "      <th>FMV_1 [mm]</th>\n",
       "      <th>FMV_2 [mm]</th>\n",
       "      <th>HPTACC_1 [%]</th>\n",
       "      <th>HPTACC_2 [%]</th>\n",
       "      <th>M [Mach]</th>\n",
       "      <th>N1_1 [% rpm]</th>\n",
       "      <th>N1_2 [% rpm]</th>\n",
       "      <th>N2_1 [% rpm]</th>\n",
       "      <th>...</th>\n",
       "      <th>VIB_AN1_1 [mils]</th>\n",
       "      <th>VIB_AN1_2 [mils]</th>\n",
       "      <th>VIB_AN2_1 [ips]</th>\n",
       "      <th>VIB_AN2_2 [ips]</th>\n",
       "      <th>VIB_BN1_1 [mils]</th>\n",
       "      <th>VIB_BN1_2 [mils]</th>\n",
       "      <th>VIB_BN2_1 [ips]</th>\n",
       "      <th>VIB_BN2_2 [ips]</th>\n",
       "      <th>VSV_1 [mm]</th>\n",
       "      <th>VSV_2 [mm]</th>\n",
       "    </tr>\n",
       "    <tr>\n",
       "      <th>ALT [ft]</th>\n",
       "      <th></th>\n",
       "      <th></th>\n",
       "      <th></th>\n",
       "      <th></th>\n",
       "      <th></th>\n",
       "      <th></th>\n",
       "      <th></th>\n",
       "      <th></th>\n",
       "      <th></th>\n",
       "      <th></th>\n",
       "      <th></th>\n",
       "      <th></th>\n",
       "      <th></th>\n",
       "      <th></th>\n",
       "      <th></th>\n",
       "      <th></th>\n",
       "      <th></th>\n",
       "      <th></th>\n",
       "      <th></th>\n",
       "      <th></th>\n",
       "      <th></th>\n",
       "    </tr>\n",
       "  </thead>\n",
       "  <tbody>\n",
       "    <tr>\n",
       "      <th>-23.183203</th>\n",
       "      <td>624.089720</td>\n",
       "      <td>646.255495</td>\n",
       "      <td>4.184419</td>\n",
       "      <td>4.167181</td>\n",
       "      <td>3.955259</td>\n",
       "      <td>34.638180</td>\n",
       "      <td>0.000000</td>\n",
       "      <td>23.638659</td>\n",
       "      <td>23.268110</td>\n",
       "      <td>54.129175</td>\n",
       "      <td>...</td>\n",
       "      <td>0.072908</td>\n",
       "      <td>0.000000</td>\n",
       "      <td>0.000000</td>\n",
       "      <td>0.255179</td>\n",
       "      <td>0.072908</td>\n",
       "      <td>0.000000</td>\n",
       "      <td>0.000000</td>\n",
       "      <td>0.255179</td>\n",
       "      <td>54.841671</td>\n",
       "      <td>54.904192</td>\n",
       "    </tr>\n",
       "    <tr>\n",
       "      <th>-18.546562</th>\n",
       "      <td>522.915270</td>\n",
       "      <td>629.356460</td>\n",
       "      <td>3.721907</td>\n",
       "      <td>4.281759</td>\n",
       "      <td>13.576883</td>\n",
       "      <td>34.436766</td>\n",
       "      <td>0.000000</td>\n",
       "      <td>20.930621</td>\n",
       "      <td>23.371085</td>\n",
       "      <td>47.964212</td>\n",
       "      <td>...</td>\n",
       "      <td>0.063935</td>\n",
       "      <td>0.007852</td>\n",
       "      <td>0.000000</td>\n",
       "      <td>0.215360</td>\n",
       "      <td>0.038137</td>\n",
       "      <td>0.007852</td>\n",
       "      <td>0.016264</td>\n",
       "      <td>0.235550</td>\n",
       "      <td>54.722880</td>\n",
       "      <td>54.625251</td>\n",
       "    </tr>\n",
       "    <tr>\n",
       "      <th>-13.909922</th>\n",
       "      <td>455.030296</td>\n",
       "      <td>604.080006</td>\n",
       "      <td>3.340158</td>\n",
       "      <td>4.318302</td>\n",
       "      <td>18.761545</td>\n",
       "      <td>34.371200</td>\n",
       "      <td>0.000000</td>\n",
       "      <td>18.924909</td>\n",
       "      <td>23.482675</td>\n",
       "      <td>42.733648</td>\n",
       "      <td>...</td>\n",
       "      <td>0.025414</td>\n",
       "      <td>0.004583</td>\n",
       "      <td>0.026664</td>\n",
       "      <td>0.180813</td>\n",
       "      <td>0.020831</td>\n",
       "      <td>0.002916</td>\n",
       "      <td>0.018331</td>\n",
       "      <td>0.218100</td>\n",
       "      <td>54.650832</td>\n",
       "      <td>54.309286</td>\n",
       "    </tr>\n",
       "    <tr>\n",
       "      <th>-9.273281</th>\n",
       "      <td>459.165128</td>\n",
       "      <td>515.484695</td>\n",
       "      <td>3.519823</td>\n",
       "      <td>3.805518</td>\n",
       "      <td>18.757023</td>\n",
       "      <td>33.914843</td>\n",
       "      <td>0.000797</td>\n",
       "      <td>20.859828</td>\n",
       "      <td>21.854212</td>\n",
       "      <td>43.861708</td>\n",
       "      <td>...</td>\n",
       "      <td>0.035070</td>\n",
       "      <td>0.009229</td>\n",
       "      <td>0.019842</td>\n",
       "      <td>0.157507</td>\n",
       "      <td>0.037223</td>\n",
       "      <td>0.017535</td>\n",
       "      <td>0.021534</td>\n",
       "      <td>0.259794</td>\n",
       "      <td>53.792965</td>\n",
       "      <td>53.728201</td>\n",
       "    </tr>\n",
       "    <tr>\n",
       "      <th>-4.636641</th>\n",
       "      <td>151.221978</td>\n",
       "      <td>167.811658</td>\n",
       "      <td>0.664343</td>\n",
       "      <td>0.761684</td>\n",
       "      <td>9.812895</td>\n",
       "      <td>34.463276</td>\n",
       "      <td>0.000818</td>\n",
       "      <td>7.567465</td>\n",
       "      <td>7.771416</td>\n",
       "      <td>12.989454</td>\n",
       "      <td>...</td>\n",
       "      <td>0.030615</td>\n",
       "      <td>0.011362</td>\n",
       "      <td>0.003314</td>\n",
       "      <td>0.039768</td>\n",
       "      <td>0.045765</td>\n",
       "      <td>0.019884</td>\n",
       "      <td>0.007101</td>\n",
       "      <td>0.082061</td>\n",
       "      <td>54.843205</td>\n",
       "      <td>54.842708</td>\n",
       "    </tr>\n",
       "    <tr>\n",
       "      <th>...</th>\n",
       "      <td>...</td>\n",
       "      <td>...</td>\n",
       "      <td>...</td>\n",
       "      <td>...</td>\n",
       "      <td>...</td>\n",
       "      <td>...</td>\n",
       "      <td>...</td>\n",
       "      <td>...</td>\n",
       "      <td>...</td>\n",
       "      <td>...</td>\n",
       "      <td>...</td>\n",
       "      <td>...</td>\n",
       "      <td>...</td>\n",
       "      <td>...</td>\n",
       "      <td>...</td>\n",
       "      <td>...</td>\n",
       "      <td>...</td>\n",
       "      <td>...</td>\n",
       "      <td>...</td>\n",
       "      <td>...</td>\n",
       "      <td>...</td>\n",
       "    </tr>\n",
       "    <tr>\n",
       "      <th>39420.717939</th>\n",
       "      <td>673.867921</td>\n",
       "      <td>673.967144</td>\n",
       "      <td>9.430265</td>\n",
       "      <td>9.448990</td>\n",
       "      <td>89.403080</td>\n",
       "      <td>98.857785</td>\n",
       "      <td>0.637469</td>\n",
       "      <td>101.819794</td>\n",
       "      <td>101.913563</td>\n",
       "      <td>80.391251</td>\n",
       "      <td>...</td>\n",
       "      <td>1.464987</td>\n",
       "      <td>0.163126</td>\n",
       "      <td>0.043011</td>\n",
       "      <td>0.014424</td>\n",
       "      <td>2.405977</td>\n",
       "      <td>1.091528</td>\n",
       "      <td>0.079989</td>\n",
       "      <td>0.127983</td>\n",
       "      <td>9.043635</td>\n",
       "      <td>8.363996</td>\n",
       "    </tr>\n",
       "    <tr>\n",
       "      <th>39425.354580</th>\n",
       "      <td>677.533867</td>\n",
       "      <td>678.365084</td>\n",
       "      <td>9.499597</td>\n",
       "      <td>9.533730</td>\n",
       "      <td>89.571474</td>\n",
       "      <td>98.847483</td>\n",
       "      <td>0.637688</td>\n",
       "      <td>102.516471</td>\n",
       "      <td>102.669763</td>\n",
       "      <td>80.599093</td>\n",
       "      <td>...</td>\n",
       "      <td>1.534494</td>\n",
       "      <td>0.150374</td>\n",
       "      <td>0.043859</td>\n",
       "      <td>0.015949</td>\n",
       "      <td>2.507365</td>\n",
       "      <td>1.172230</td>\n",
       "      <td>0.084300</td>\n",
       "      <td>0.118476</td>\n",
       "      <td>8.699101</td>\n",
       "      <td>8.066561</td>\n",
       "    </tr>\n",
       "    <tr>\n",
       "      <th>39429.991220</th>\n",
       "      <td>675.734082</td>\n",
       "      <td>676.188765</td>\n",
       "      <td>9.460387</td>\n",
       "      <td>9.497088</td>\n",
       "      <td>85.362855</td>\n",
       "      <td>98.886037</td>\n",
       "      <td>0.637105</td>\n",
       "      <td>102.185496</td>\n",
       "      <td>102.268745</td>\n",
       "      <td>80.431121</td>\n",
       "      <td>...</td>\n",
       "      <td>1.441343</td>\n",
       "      <td>0.151425</td>\n",
       "      <td>0.053279</td>\n",
       "      <td>0.014021</td>\n",
       "      <td>2.445236</td>\n",
       "      <td>1.144101</td>\n",
       "      <td>0.067300</td>\n",
       "      <td>0.123383</td>\n",
       "      <td>8.617530</td>\n",
       "      <td>7.927390</td>\n",
       "    </tr>\n",
       "    <tr>\n",
       "      <th>39434.627861</th>\n",
       "      <td>683.831762</td>\n",
       "      <td>686.364994</td>\n",
       "      <td>9.602262</td>\n",
       "      <td>9.625997</td>\n",
       "      <td>98.830620</td>\n",
       "      <td>98.864523</td>\n",
       "      <td>0.640898</td>\n",
       "      <td>103.247826</td>\n",
       "      <td>103.299922</td>\n",
       "      <td>80.862150</td>\n",
       "      <td>...</td>\n",
       "      <td>1.864372</td>\n",
       "      <td>0.114570</td>\n",
       "      <td>0.036454</td>\n",
       "      <td>0.036454</td>\n",
       "      <td>2.499717</td>\n",
       "      <td>1.156119</td>\n",
       "      <td>0.088532</td>\n",
       "      <td>0.130194</td>\n",
       "      <td>8.318321</td>\n",
       "      <td>7.797309</td>\n",
       "    </tr>\n",
       "    <tr>\n",
       "      <th>39439.264501</th>\n",
       "      <td>684.922459</td>\n",
       "      <td>687.262180</td>\n",
       "      <td>9.638285</td>\n",
       "      <td>9.635519</td>\n",
       "      <td>98.836977</td>\n",
       "      <td>98.851809</td>\n",
       "      <td>0.640898</td>\n",
       "      <td>103.419867</td>\n",
       "      <td>103.362520</td>\n",
       "      <td>80.897225</td>\n",
       "      <td>...</td>\n",
       "      <td>1.904732</td>\n",
       "      <td>0.100249</td>\n",
       "      <td>0.036454</td>\n",
       "      <td>0.036454</td>\n",
       "      <td>2.506226</td>\n",
       "      <td>1.175648</td>\n",
       "      <td>0.091135</td>\n",
       "      <td>0.127590</td>\n",
       "      <td>8.263242</td>\n",
       "      <td>7.742231</td>\n",
       "    </tr>\n",
       "  </tbody>\n",
       "</table>\n",
       "<p>2142 rows × 54 columns</p>\n",
       "</div>"
      ],
      "text/plain": [
       "               EGT_1 [deg C]  EGT_2 [deg C]  FMV_1 [mm]  FMV_2 [mm]  \\\n",
       "ALT [ft]                                                              \n",
       "-23.183203        624.089720     646.255495    4.184419    4.167181   \n",
       "-18.546562        522.915270     629.356460    3.721907    4.281759   \n",
       "-13.909922        455.030296     604.080006    3.340158    4.318302   \n",
       "-9.273281         459.165128     515.484695    3.519823    3.805518   \n",
       "-4.636641         151.221978     167.811658    0.664343    0.761684   \n",
       "...                      ...            ...         ...         ...   \n",
       " 39420.717939     673.867921     673.967144    9.430265    9.448990   \n",
       " 39425.354580     677.533867     678.365084    9.499597    9.533730   \n",
       " 39429.991220     675.734082     676.188765    9.460387    9.497088   \n",
       " 39434.627861     683.831762     686.364994    9.602262    9.625997   \n",
       " 39439.264501     684.922459     687.262180    9.638285    9.635519   \n",
       "\n",
       "               HPTACC_1 [%]  HPTACC_2 [%]  M [Mach]  N1_1 [% rpm]  \\\n",
       "ALT [ft]                                                            \n",
       "-23.183203         3.955259     34.638180  0.000000     23.638659   \n",
       "-18.546562        13.576883     34.436766  0.000000     20.930621   \n",
       "-13.909922        18.761545     34.371200  0.000000     18.924909   \n",
       "-9.273281         18.757023     33.914843  0.000797     20.859828   \n",
       "-4.636641          9.812895     34.463276  0.000818      7.567465   \n",
       "...                     ...           ...       ...           ...   \n",
       " 39420.717939     89.403080     98.857785  0.637469    101.819794   \n",
       " 39425.354580     89.571474     98.847483  0.637688    102.516471   \n",
       " 39429.991220     85.362855     98.886037  0.637105    102.185496   \n",
       " 39434.627861     98.830620     98.864523  0.640898    103.247826   \n",
       " 39439.264501     98.836977     98.851809  0.640898    103.419867   \n",
       "\n",
       "               N1_2 [% rpm]  N2_1 [% rpm]  ...  VIB_AN1_1 [mils]  \\\n",
       "ALT [ft]                                   ...                     \n",
       "-23.183203        23.268110     54.129175  ...          0.072908   \n",
       "-18.546562        23.371085     47.964212  ...          0.063935   \n",
       "-13.909922        23.482675     42.733648  ...          0.025414   \n",
       "-9.273281         21.854212     43.861708  ...          0.035070   \n",
       "-4.636641          7.771416     12.989454  ...          0.030615   \n",
       "...                     ...           ...  ...               ...   \n",
       " 39420.717939    101.913563     80.391251  ...          1.464987   \n",
       " 39425.354580    102.669763     80.599093  ...          1.534494   \n",
       " 39429.991220    102.268745     80.431121  ...          1.441343   \n",
       " 39434.627861    103.299922     80.862150  ...          1.864372   \n",
       " 39439.264501    103.362520     80.897225  ...          1.904732   \n",
       "\n",
       "               VIB_AN1_2 [mils]  VIB_AN2_1 [ips]  VIB_AN2_2 [ips]  \\\n",
       "ALT [ft]                                                            \n",
       "-23.183203             0.000000         0.000000         0.255179   \n",
       "-18.546562             0.007852         0.000000         0.215360   \n",
       "-13.909922             0.004583         0.026664         0.180813   \n",
       "-9.273281              0.009229         0.019842         0.157507   \n",
       "-4.636641              0.011362         0.003314         0.039768   \n",
       "...                         ...              ...              ...   \n",
       " 39420.717939          0.163126         0.043011         0.014424   \n",
       " 39425.354580          0.150374         0.043859         0.015949   \n",
       " 39429.991220          0.151425         0.053279         0.014021   \n",
       " 39434.627861          0.114570         0.036454         0.036454   \n",
       " 39439.264501          0.100249         0.036454         0.036454   \n",
       "\n",
       "               VIB_BN1_1 [mils]  VIB_BN1_2 [mils]  VIB_BN2_1 [ips]  \\\n",
       "ALT [ft]                                                             \n",
       "-23.183203             0.072908          0.000000         0.000000   \n",
       "-18.546562             0.038137          0.007852         0.016264   \n",
       "-13.909922             0.020831          0.002916         0.018331   \n",
       "-9.273281              0.037223          0.017535         0.021534   \n",
       "-4.636641              0.045765          0.019884         0.007101   \n",
       "...                         ...               ...              ...   \n",
       " 39420.717939          2.405977          1.091528         0.079989   \n",
       " 39425.354580          2.507365          1.172230         0.084300   \n",
       " 39429.991220          2.445236          1.144101         0.067300   \n",
       " 39434.627861          2.499717          1.156119         0.088532   \n",
       " 39439.264501          2.506226          1.175648         0.091135   \n",
       "\n",
       "               VIB_BN2_2 [ips]  VSV_1 [mm]  VSV_2 [mm]  \n",
       "ALT [ft]                                                \n",
       "-23.183203            0.255179   54.841671   54.904192  \n",
       "-18.546562            0.235550   54.722880   54.625251  \n",
       "-13.909922            0.218100   54.650832   54.309286  \n",
       "-9.273281             0.259794   53.792965   53.728201  \n",
       "-4.636641             0.082061   54.843205   54.842708  \n",
       "...                        ...         ...         ...  \n",
       " 39420.717939         0.127983    9.043635    8.363996  \n",
       " 39425.354580         0.118476    8.699101    8.066561  \n",
       " 39429.991220         0.123383    8.617530    7.927390  \n",
       " 39434.627861         0.130194    8.318321    7.797309  \n",
       " 39439.264501         0.127590    8.263242    7.742231  \n",
       "\n",
       "[2142 rows x 54 columns]"
      ]
     },
     "execution_count": 7,
     "metadata": {},
     "output_type": "execute_result"
    }
   ],
   "source": [
    "result.compute()"
   ]
  },
  {
   "cell_type": "markdown",
   "id": "a27f095a-b1ca-45e1-9f95-b4e49eccb39d",
   "metadata": {},
   "source": [
    "**Filtrage des données :**"
   ]
  },
  {
   "cell_type": "code",
   "execution_count": 8,
   "id": "bd433db6-f271-42c6-ae09-b41f4e786e24",
   "metadata": {
    "tags": []
   },
   "outputs": [],
   "source": [
    "filtered_data = df[df['ALT [ft]'] > 1000].compute()"
   ]
  },
  {
   "cell_type": "markdown",
   "id": "62ae538c-2722-4e3a-a816-5cca456f3965",
   "metadata": {},
   "source": [
    "**Jointure des données :**"
   ]
  },
  {
   "cell_type": "code",
   "execution_count": 9,
   "id": "c8152d04-3391-4781-a7bf-c973a9435cd0",
   "metadata": {
    "tags": []
   },
   "outputs": [],
   "source": [
    "df1 = df[df['ALT [ft]'] > 1000]\n",
    "df2 = df[df['ALT [ft]'] < 1500]\n",
    "joined_data = df1.merge(df2, on='ALT [ft]').compute()"
   ]
  },
  {
   "cell_type": "markdown",
   "id": "8f557524-c4b3-4aea-9359-a86a36bba012",
   "metadata": {},
   "source": [
    "**Barre de progression avec le scheduler distribué :**"
   ]
  },
  {
   "cell_type": "code",
   "execution_count": 10,
   "id": "8015513c-df1c-4ca7-8989-a34976019687",
   "metadata": {
    "tags": []
   },
   "outputs": [
    {
     "data": {
      "application/vnd.jupyter.widget-view+json": {
       "model_id": "2264c37f2ce847d0a5680773698be788",
       "version_major": 2,
       "version_minor": 0
      },
      "text/plain": [
       "VBox()"
      ]
     },
     "metadata": {},
     "output_type": "display_data"
    }
   ],
   "source": [
    "from dask.distributed import progress\n",
    "\n",
    "# Lire CSV\n",
    "df_dask = dd.read_csv('vol01.csv')\n",
    "\n",
    "# Filter, GroupBy and Calculer la moyenne (mean)\n",
    "result_dask = df_dask[df_dask['ALT [ft]'] > 1500].groupby('ALT [ft]')[\"M [Mach]\"].mean()\n",
    "\n",
    "# Calculer le résultat\n",
    "result_dask = result_dask.persist()\n",
    "\n",
    "progress(result_dask)"
   ]
  },
  {
   "cell_type": "markdown",
   "id": "8c370161-c72c-49a4-80fd-031fb71372d2",
   "metadata": {},
   "source": [
    "**Barre de progression sur un scheduler à machine unique (Vous ne verrez pas la barre de progression si avez initialisez le Client) :**"
   ]
  },
  {
   "cell_type": "code",
   "execution_count": 11,
   "id": "90b50f6b-a84c-42c8-aa60-e5bc550a82fa",
   "metadata": {
    "tags": []
   },
   "outputs": [],
   "source": [
    "from dask.diagnostics import ProgressBar\n",
    "\n",
    "with ProgressBar():\n",
    "    # Lire CSV\n",
    "    df_dask = dd.read_csv('vol01.csv')\n",
    "\n",
    "    # Filter, GroupBy and Calculer la moyenne (mean)\n",
    "    result_dask = df_dask[df_dask['ALT [ft]'] > 1500].groupby('ALT [ft]')[\"M [Mach]\"].mean()\n",
    "\n",
    "    # Calculer le résultat\n",
    "    result_dask = result_dask.persist()"
   ]
  },
  {
   "cell_type": "markdown",
   "id": "fe3eb7e4-9f4f-426a-8fc3-d010f39cce0d",
   "metadata": {
    "tags": []
   },
   "source": [
    "### **4. Dask Delayed**"
   ]
  },
  {
   "cell_type": "markdown",
   "id": "21fc2cae-9096-453c-89de-808e4164c3bf",
   "metadata": {
    "tags": []
   },
   "source": [
    "**Qu'est-ce que Dask Delayed ?**\n",
    "\n",
    "Dask Delayed est un décorateur et une fonction. Il \"retarde\" l'exécution d'une fonction, au lieu de l'exécuter immédiatement. Lorsqu'une fonction est retardée, elle n'est pas encore calculée. Au lieu de cela, une représentation symbolique (ou tâche) du calcul est créée. Ces calculs symboliques peuvent ensuite être exécutés en parallèle.\n",
    "\n",
    "**Comment ça marche?**\n",
    "\n",
    "- Envelopper les calculs : En enveloppant les fonctions ou les calculs avec delayed, vous indiquez à Dask de ne pas les exécuter et de garder une trace des tâches pour un calcul parallèle ultérieur.\n",
    "\n",
    "- Construire des graphes de tâches : Dask construit en interne un graphique de tâches à partir de ces opérations différées. Un graphique de tâches est une représentation visuelle de la séquence et des dépendances des opérations.\n",
    "\n",
    "- Exécution parallèle : Une fois que votre calcul entier est construit en utilisant des fonctions retardées, vous pouvez calculer le résultat en parallèle en appelant la méthode `.compute()`.\n",
    "\n",
    "**Pourquoi utiliser Delayed ?**\n",
    "\n",
    "1. Algorithmes parallèles personnalisés : Bien que Dask fournisse des équivalents parallèles prêts à l'emploi pour de nombreuses opérations Python, Pandas et Numpy standard (comme Dask Array ou Dask DataFrame), vous pouvez rencontrer des scénarios dans lesquels vous avez besoin d'un parallélisme plus personnalisé. Dask Delayed vous permet de concevoir vos algorithmes parallèles sans avoir à vous plonger dans les complexités de la programmation parallèle.\n",
    "\n",
    "2. Flexibilité : Vous pouvez combiner des collections Dask (comme Dask Array ou DataFrame) avec des fonctions retardées, ce qui offre un environnement flexible pour construire des pipelines complexes."
   ]
  },
  {
   "cell_type": "markdown",
   "id": "373c9fb0-bcb0-49a4-9261-22e776d15dc7",
   "metadata": {},
   "source": [
    "**Voyons un exemple:**"
   ]
  },
  {
   "cell_type": "code",
   "execution_count": 12,
   "id": "2f19549f-e947-4c47-882e-d841e5411f16",
   "metadata": {
    "tags": []
   },
   "outputs": [
    {
     "name": "stdout",
     "output_type": "stream",
     "text": [
      "5\n"
     ]
    }
   ],
   "source": [
    "from dask import delayed\n",
    "\n",
    "# Quelques fonctions simples\n",
    "def inc(x):\n",
    "    return x + 1\n",
    "\n",
    "def add(x, y):\n",
    "    return x + y\n",
    "\n",
    "# Sans delayed\n",
    "result = add(inc(1), inc(2))\n",
    "print(result)  # Output: 5"
   ]
  },
  {
   "cell_type": "markdown",
   "id": "7d98bc9f-ba3d-43e7-ad4c-c761b84b0d96",
   "metadata": {},
   "source": [
    "**Maintenant, utilisons delayed:**"
   ]
  },
  {
   "cell_type": "code",
   "execution_count": 13,
   "id": "cd2f9a71-6813-4644-8757-bad6809b8754",
   "metadata": {
    "tags": []
   },
   "outputs": [
    {
     "name": "stdout",
     "output_type": "stream",
     "text": [
      "5\n"
     ]
    }
   ],
   "source": [
    "# Avec delayed\n",
    "inc_delayed = delayed(inc)\n",
    "add_delayed = delayed(add)\n",
    "\n",
    "# Ils ne calculent pas encore le résultat, mais construisent le graphe de calcul.\n",
    "a = inc_delayed(1)\n",
    "b = inc_delayed(2)\n",
    "result_delayed = add_delayed(a, b)\n",
    "\n",
    "# Calcul en parallèle (dans ce cas simple, il n'y a pas grand-chose à paralléliser)\n",
    "result = result_delayed.compute()\n",
    "print(result)  # Output: 5"
   ]
  },
  {
   "cell_type": "markdown",
   "id": "d79cdf68-65c8-40ff-a669-2af0b1545e1a",
   "metadata": {},
   "source": [
    "**Lorsque vous retardez une fonction (delayed), elle ne calcule pas immédiatement son résultat. Au lieu de cela, elle garde une trace du calcul dans un graphe de tâches, que vous pouvez visualiser:**"
   ]
  },
  {
   "cell_type": "code",
   "execution_count": 14,
   "id": "c288a257-30d7-43b6-b942-1ea2eeaa21a4",
   "metadata": {
    "tags": []
   },
   "outputs": [
    {
     "data": {
      "image/png": "[encoded data removed]",
      "text/plain": [
       "<IPython.core.display.Image object>"
      ]
     },
     "execution_count": 14,
     "metadata": {},
     "output_type": "execute_result"
    }
   ],
   "source": [
    "result_delayed.visualize()"
   ]
  },
  {
   "cell_type": "markdown",
   "id": "fa493798-7a6d-4f6e-95bc-cbcbbd589773",
   "metadata": {
    "jp-MarkdownHeadingCollapsed": true,
    "tags": []
   },
   "source": [
    "# **Exercices**"
   ]
  },
  {
   "cell_type": "markdown",
   "id": "f19ac2ff-1c5d-4c87-aac7-ece943c573e5",
   "metadata": {
    "jp-MarkdownHeadingCollapsed": true,
    "tags": []
   },
   "source": [
    "## **Exercice 1 : Extraction de fichiers Zip**"
   ]
  },
  {
   "cell_type": "markdown",
   "id": "e5113f8d-4756-469f-8687-61bc3f4b48be",
   "metadata": {},
   "source": [
    "### **Objectif :** \n",
    "Écrire une fonction qui extrait tous les fichiers ZIP d'un répertoire source vers un répertoire de destination.\n",
    "\n",
    "#### **Consignes :**\n",
    "\n",
    "- La fonction doit être nommée extraire_fichiers_zip.\n",
    "- La fonction doit accepter deux arguments :\n",
    "    - repertoire_source : Le répertoire dans lequel rechercher les fichiers ZIP.\n",
    "    - repertoire_destination : Le répertoire où les fichiers ZIP doivent être extraits.\n",
    "- Si le répertoire de destination n'existe pas, la fonction doit le créer.\n",
    "- Après l'extraction de chaque fichier ZIP, affichez un message informant l'utilisateur que le fichier a été extrait avec succès.\n",
    "\n",
    "#### **Bonus :**\n",
    "\n",
    "- Gérez les exceptions potentielles qui pourraient survenir lors de l'ouverture de fichiers ZIP corrompus.\n",
    "- Créez une fonction de logs pour enregistrer chaque action réalisée (par exemple, la création d'un répertoire, l'extraction réussie d'un fichier, etc.).\n",
    "\n",
    "#### **Astuces :**\n",
    "\n",
    "- Utilisez le module os pour interagir avec le système de fichiers.\n",
    "- Le module zipfile vous sera très utile pour gérer les fichiers ZIP.\n",
    "\n",
    "\n",
    "Bonne chance !"
   ]
  },
  {
   "cell_type": "code",
   "execution_count": 15,
   "id": "3b36dcd8-a9ce-44bf-9b21-9281b37be48f",
   "metadata": {
    "tags": []
   },
   "outputs": [],
   "source": [
    "import pandas as pd\n",
    "import numpy as np\n",
    "import zipfile, os\n",
    "import dask.dataframe as dd"
   ]
  },
  {
   "cell_type": "code",
   "execution_count": 16,
   "id": "16336693-7e61-4a4e-9b10-4af743ebd19b",
   "metadata": {
    "tags": []
   },
   "outputs": [
    {
     "data": {
      "text/plain": [
       "['data', 'mydask.png', 'TD4.ipynb', 'vol01.csv']"
      ]
     },
     "execution_count": 16,
     "metadata": {},
     "output_type": "execute_result"
    }
   ],
   "source": [
    "os.listdir()"
   ]
  },
  {
   "cell_type": "code",
   "execution_count": 17,
   "id": "c904b36a-e179-4ca4-9a3e-54293bc2b5df",
   "metadata": {
    "tags": []
   },
   "outputs": [
    {
     "name": "stderr",
     "output_type": "stream",
     "text": [
      "<>:25: SyntaxWarning: invalid escape sequence '\\D'\n",
      "<>:26: SyntaxWarning: invalid escape sequence '\\D'\n",
      "<>:25: SyntaxWarning: invalid escape sequence '\\D'\n",
      "<>:26: SyntaxWarning: invalid escape sequence '\\D'\n",
      "C:\\Users\\Younes\\AppData\\Local\\Temp\\ipykernel_16436\\541857966.py:25: SyntaxWarning: invalid escape sequence '\\D'\n",
      "  repertoire_source = \"D:\\DL\\TD_data_science\\MACS3_Stats_TDs\\data\"\n",
      "C:\\Users\\Younes\\AppData\\Local\\Temp\\ipykernel_16436\\541857966.py:26: SyntaxWarning: invalid escape sequence '\\D'\n",
      "  repertoire_destination = \"D:\\DL\\TD_data_science\\MACS3_Stats_TDs\\extracted_files\"\n"
     ]
    },
    {
     "name": "stdout",
     "output_type": "stream",
     "text": [
      "Fichiers dans repertoire_source: ['accars_b.xlsx', 'Aircraft_01.h5.zip', 'Aircraft_02.h5.zip', 'Aircraft_03.h5.zip', 'Rouet_geometries.csv', 'Rouet_vibrations.csv', 'Vol001.csv', 'Vol002.csv', 'Vol003.csv', 'Vol004.csv', 'Vol005.csv', 'Vol006.csv', 'Vol007.csv', 'Vol008.csv', 'Vol009.csv', 'Vol010.csv']\n",
      "Le fichier 'Aircraft_01.h5.zip' a été extrait.\n",
      "Le fichier 'Aircraft_02.h5.zip' a été extrait.\n",
      "Le fichier 'Aircraft_03.h5.zip' a été extrait.\n",
      "Fichiers dans repertoire_destination après extraction: ['Aircraft_01.h5', 'Aircraft_01_dask.h5', 'Aircraft_02.h5', 'Aircraft_03.h5']\n"
     ]
    }
   ],
   "source": [
    "def extraire_fichiers_zip(repertoire_source, repertoire_destination):\n",
    "    \"\"\"\n",
    "    Extrait tous les fichiers zip du répertoire source vers le répertoire de destination.\n",
    "\n",
    "    Paramètres:\n",
    "    - repertoire_source (str): Le répertoire dans lequel rechercher les fichiers zip.\n",
    "    - repertoire_destination (str): Le répertoire où les fichiers zip doivent être extraits.\n",
    "\n",
    "    Retourne:\n",
    "    - None\n",
    "    \"\"\"\n",
    "    if not os.path.exists(repertoire_destination):\n",
    "        os.makedirs(repertoire_destination)\n",
    "    \n",
    "    for fichiers in os.listdir(repertoire_source):\n",
    "        if fichiers.endswith(\".zip\"):\n",
    "            fichiers_zip = os.path.join(repertoire_source,fichiers)\n",
    "\n",
    "            with zipfile.ZipFile(fichiers_zip, 'r') as zip_ref:\n",
    "                zip_ref.extractall(repertoire_destination)\n",
    "            print(f\"Le fichier '{fichiers}' a été extrait.\")\n",
    "\n",
    "\n",
    "# Définir le répertoire où les fichiers zip sont stockés\n",
    "repertoire_source = \"D:\\DL\\TD_data_science\\MACS3_Stats_TDs\\data\"\n",
    "repertoire_destination = \"D:\\DL\\TD_data_science\\MACS3_Stats_TDs\\extracted_files\"\n",
    "\n",
    "\n",
    "# Print la liste des fichiers dans le répertoire source\n",
    "print(\"Fichiers dans repertoire_source:\", os.listdir(repertoire_source))\n",
    "\n",
    "# Appelez la fonction pour extraire tous les fichiers zip du source vers le répertoire de destination\n",
    "extraire_fichiers_zip(repertoire_source, repertoire_destination)\n",
    "\n",
    "# Print la liste des fichiers dans le répertoire de destination après extraction\n",
    "print(\"Fichiers dans repertoire_destination après extraction:\", os.listdir(repertoire_destination))"
   ]
  },
  {
   "cell_type": "markdown",
   "id": "b1f4d5f6-b52f-44a6-bc99-0a681203c731",
   "metadata": {
    "jp-MarkdownHeadingCollapsed": true,
    "tags": []
   },
   "source": [
    "## **Exercice 2 : Lecture d'un fichier HDF5 avec Dask**"
   ]
  },
  {
   "cell_type": "markdown",
   "id": "a97a421c-4c8e-41d4-b8c2-57004738b7b3",
   "metadata": {},
   "source": [
    "Lisez le fichier HDF5 du premier avion \"Aircraft 01\" à l'aide de la fonction `read_hdf` de Dask."
   ]
  },
  {
   "cell_type": "code",
   "execution_count": 18,
   "id": "df84dd56",
   "metadata": {},
   "outputs": [
    {
     "name": "stdout",
     "output_type": "stream",
     "text": [
      "Requirement already satisfied: tables in c:\\users\\younes\\appdata\\local\\programs\\python\\python312\\lib\\site-packages (3.10.1)\n",
      "Requirement already satisfied: numpy>=1.20.0 in c:\\users\\younes\\appdata\\local\\programs\\python\\python312\\lib\\site-packages (from tables) (1.26.3)\n",
      "Requirement already satisfied: numexpr>=2.6.2 in c:\\users\\younes\\appdata\\local\\programs\\python\\python312\\lib\\site-packages (from tables) (2.10.1)\n",
      "Requirement already satisfied: packaging in c:\\users\\younes\\appdata\\roaming\\python\\python312\\site-packages (from tables) (23.2)\n",
      "Requirement already satisfied: py-cpuinfo in c:\\users\\younes\\appdata\\local\\programs\\python\\python312\\lib\\site-packages (from tables) (9.0.0)\n",
      "Requirement already satisfied: blosc2>=2.3.0 in c:\\users\\younes\\appdata\\local\\programs\\python\\python312\\lib\\site-packages (from tables) (2.7.1)\n",
      "Requirement already satisfied: typing-extensions>=4.4.0 in c:\\users\\younes\\appdata\\local\\programs\\python\\python312\\lib\\site-packages (from tables) (4.11.0)\n",
      "Requirement already satisfied: ndindex>=1.4 in c:\\users\\younes\\appdata\\local\\programs\\python\\python312\\lib\\site-packages (from blosc2>=2.3.0->tables) (1.9.2)\n",
      "Requirement already satisfied: msgpack in c:\\users\\younes\\appdata\\local\\programs\\python\\python312\\lib\\site-packages (from blosc2>=2.3.0->tables) (1.1.0)\n"
     ]
    }
   ],
   "source": [
    "!pip install tables"
   ]
  },
  {
   "cell_type": "code",
   "execution_count": 58,
   "id": "313efb0e-a2ac-4dfc-9d0d-eb6721904761",
   "metadata": {
    "tags": []
   },
   "outputs": [],
   "source": [
    "import tables\n",
    "nom_du_fichier = 'Aircraft_01_dask.h5'\n",
    "chemin_fichier = os.path.join(repertoire_destination, nom_du_fichier)\n",
    "ddf = dd.read_hdf(chemin_fichier,'*')"
   ]
  },
  {
   "cell_type": "markdown",
   "id": "62d0c8c4-fe48-404e-8fb5-2eaa167e4f10",
   "metadata": {
    "tags": []
   },
   "source": [
    "### **L'Erreur**\n",
    "\n",
    "Lors de la tentative de lecture d'un fichier HDF5 stocké au format fixe à l'aide de la fonction `read_hdf` de Dask, vous pourriez rencontrer l'erreur ci-dessus.\n",
    "Cette erreur indique que le fichier HDF5 est dans un format qui ne lui permet pas d'être facilement partitionné pour un traitement parallèle par Dask.\n",
    "\n",
    "\n",
    "### **Pourquoi?**\n",
    "\n",
    "HDF5 est un format de stockage de données populaire capable de stocker de grands ensembles de données. Au sein du format HDF5, il existe deux principales façons de stocker des données :\n",
    "\n",
    "1. **Format Fixe** : C'est le format de stockage par défaut dans lequel les données sont stockées sous forme de bloc monolithique.\n",
    "2. **Format Tableau** : Dans ce format, les données sont stockées par morceaux, ce qui les rend essentiellement \"partitionnées\" et adaptées au traitement hors-mémoire et parallèle.\n",
    "\n",
    "Dask est une bibliothèque de calcul parallèle qui permet des opérations efficaces sur de grands ensembles de données en travaillant simultanément sur de petits morceaux ou partitions. Lors de la tentative de lecture d'un fichier HDF5 avec Dask, si les données sont stockées au format fixe, cela peut conduire à des inefficacités et des erreurs potentielles car le fichier n'est pas intrinsèquement partitionné.\n",
    "\n",
    "\n",
    "\n",
    "### **Objectif**\n",
    "\n",
    "- Votre tâche est d'écrire une fonction capable de gérer cette erreur. La fonction devrait :\n",
    "\n",
    "    1. Essayer de lire le fichier HDF5 à l'aide de Dask.\n",
    "    2. S'il rencontre l'erreur mentionnée ci-dessus, il devrait créer une version partitionnée du fichier au format `tableau` et la stocker dans un dossier \"data_dask\".\n",
    "    3. Une fois la version partitionnée créée, elle devrait lire cette version à l'aide de Dask et renvoyer le DataFrame Dask résultant.\n",
    "\n",
    "### **Bonus**\n",
    "\n",
    "- Améliorez la fonction pour vérifier d'abord si une version partitionnée du fichier existe déjà, et si c'est le cas, lisez cette version directement sans essayer de lire le fichier non partitionné.\n",
    "\n",
    "### **Astuce**\n",
    "\n",
    "- N'oubliez pas d'utiliser l'argument format='table' lors de la création d'une version partitionnée du fichier HDF5 avec pandas.\n",
    "\n",
    "Bonne chance !\n"
   ]
  },
  {
   "cell_type": "code",
   "execution_count": 61,
   "id": "86cd15a4-92c8-47e2-be93-7f9589247ae2",
   "metadata": {
    "tags": []
   },
   "outputs": [
    {
     "name": "stderr",
     "output_type": "stream",
     "text": [
      "<>:48: SyntaxWarning: invalid escape sequence '\\D'\n",
      "<>:48: SyntaxWarning: invalid escape sequence '\\D'\n",
      "C:\\Users\\Younes\\AppData\\Local\\Temp\\ipykernel_16436\\2425364609.py:48: SyntaxWarning: invalid escape sequence '\\D'\n",
      "  nom_du_fichier = \"d:\\DL\\TD_data_science\\MACS3_Stats_TDs\\extracted_files\\Aircraft_01_dask.h5\"\n"
     ]
    },
    {
     "name": "stdout",
     "output_type": "stream",
     "text": [
      "DataFrame Dask du fichier d:\\DL\\TD_data_science\\MACS3_Stats_TDs\\extracted_files\\Aircraft_01_dask.h5 a été chargé dans 'ddf'.\n"
     ]
    }
   ],
   "source": [
    "def lire_hdf_dask(nom_fichier, repertoire='data/data_extracted'):\n",
    "    \"\"\"\n",
    "    Charge un fichier HDF5 dans un DataFrame Dask.\n",
    "\n",
    "    Si le fichier HDF5 n'est pas partitionnable et qu'il n'y a pas déjà une version partitionnée,\n",
    "    une version partitionnée sera créée dans le répertoire 'data/data_dask'.\n",
    "\n",
    "    Paramètres:\n",
    "    - nom_fichier (str): Nom du fichier HDF5.\n",
    "    - repertoire (str, facultatif): Répertoire contenant le fichier HDF5. Par défaut, 'data/data_extracted'.\n",
    "\n",
    "    Retour:\n",
    "    - ddf: DataFrame Dask\n",
    "    \"\"\"\n",
    "    repertoire_dask = 'data/data_dask'\n",
    "\n",
    "    # Vérifiez si le répertoire dask existe; sinon, créez-le\n",
    "    if not os.path.exists(repertoire_dask):\n",
    "        os.makedirs(repertoire_dask)\n",
    "\n",
    "    fichier_partitionne = os.path.join(repertoire_dask, f\"{nom_fichier[:-3]}_dask.h5\")\n",
    "\n",
    "    # Vérifiez si une version partitionnée du fichier existe\n",
    "    if os.path.exists(fichier_partitionne):\n",
    "        return dd.read_hdf(fichier_partitionne, '*')\n",
    "\n",
    "    chemin_fichier = os.path.join(repertoire, nom_fichier)\n",
    "\n",
    "    try:\n",
    "        return dd.read_hdf(chemin_fichier, '*')\n",
    "    except TypeError:\n",
    "        with pd.HDFStore(chemin_fichier) as store:\n",
    "            keys_store = store.keys()\n",
    "            if not keys_store:\n",
    "                raise ValueError(f\"Aucun jeu de données trouvé dans HDFStore: {nom_fichier}\")\n",
    "\n",
    "            print(\"Ce HDFStore n'est pas partitionnable et ne peut être utilisé de manière monolithique qu'avec pandas.\")\n",
    "            print(f\"Création d'un nouveau fichier de données: '{nom_fichier[:-3]}_dask.h5'\")\n",
    "\n",
    "            # Créez une version partitionnée du fichier\n",
    "            with pd.HDFStore(fichier_partitionne, mode='w') as h:\n",
    "                for key in keys_store:\n",
    "                    h.put(key, store[key], format='table')\n",
    "            print(f\"Lecture du fichier de données: '{nom_fichier[:-3]}_dask.h5'\")\n",
    "            return dd.read_hdf(fichier_partitionne, '*')\n",
    "\n",
    "# Testez la fonction\n",
    "nom_du_fichier = \"d:\\DL\\TD_data_science\\MACS3_Stats_TDs\\extracted_files\\Aircraft_01_dask.h5\"\n",
    "ddf = lire_hdf_dask(nom_du_fichier)\n",
    "print(f\"DataFrame Dask du fichier {nom_du_fichier} a été chargé dans 'ddf'.\")"
   ]
  },
  {
   "cell_type": "markdown",
   "id": "78e963b6-6372-4001-8f74-5f58891cac6c",
   "metadata": {
    "jp-MarkdownHeadingCollapsed": true,
    "tags": []
   },
   "source": [
    "## **Exercice 3 : Exploration de Dask DataFrame**"
   ]
  },
  {
   "cell_type": "markdown",
   "id": "328b4b36-b9bb-4422-a224-a4788e5f3b4d",
   "metadata": {
    "tags": []
   },
   "source": [
    "Dans cet exercice, vous allez explorer les caractéristiques et les propriétés de base d'un Dask DataFrame (ddf). L'objectif est de vous familiariser avec les composants clés et les méthodes associées à un Dask DataFrame.\n",
    "\n",
    "### **Objectifs :**\n",
    "\n",
    "1. **Nombre de Partitions** : \n",
    "   - Déterminez combien de partitions sont présentes dans le Dask DataFrame `ddf`.\n",
    "\n",
    "2. **Noms des Indices** : \n",
    "   - Utilisez la méthode `map_partitions` pour obtenir le nom des indices de chaque partition de `ddf`.\n",
    "   - Affichez les 10 premiers noms d'index.\n",
    "   - Comptez le nombre total de noms d'index que vous avez récupérés.\n",
    "\n",
    "3. **Colonnes du DataFrame** :\n",
    "   - Récupérez toutes les colonnes de `ddf` et stockez-les dans une variable.\n",
    "   - Comptez le nombre de colonnes.\n",
    "\n",
    "4. **Types de Données** :\n",
    "   - Examinez les types de données de chaque colonne dans `ddf`.\n",
    "\n",
    "5. **Aperçu d'une Partition** :\n",
    "   - Affichez les premières lignes de la première partition de `ddf`.\n",
    "\n",
    "### **Astuces :**\n",
    "\n",
    "- La méthode `map_partitions` peut être utilisée pour appliquer une fonction à chaque partition d'un Dask DataFrame.\n",
    "- La méthode `compute()` force l'évaluation d'une opération Dask. Souvenez-vous que Dask est paresseux par défaut, c'est-à-dire qu'il ne calcule pas les résultats tant que vous ne le lui demandez pas.\n",
    "- Vous pouvez accéder à une partition spécifique en utilisant `ddf.partitions[index]`.\n",
    "\n",
    "### **Bonus :**\n",
    "\n",
    "- Essayez d'afficher les dernières lignes de la dernière partition de `ddf`.\n",
    "- Explorez d'autres méthodes et propriétés associées à `ddf` pour obtenir une meilleure compréhension de vos données.\n",
    "\n",
    "Bonne chance !"
   ]
  },
  {
   "cell_type": "markdown",
   "id": "e96f385c-a997-4a7c-b2b3-4da901e7aa2e",
   "metadata": {},
   "source": [
    "**1. Nombre de Partitions :**"
   ]
  },
  {
   "cell_type": "code",
   "execution_count": 38,
   "id": "12f90f1a-186f-495d-b3a9-bb5c02c6238f",
   "metadata": {
    "tags": []
   },
   "outputs": [
    {
     "data": {
      "text/plain": [
       "1001"
      ]
     },
     "execution_count": 38,
     "metadata": {},
     "output_type": "execute_result"
    }
   ],
   "source": [
    "ddf.npartitions"
   ]
  },
  {
   "cell_type": "markdown",
   "id": "2bf22aa4-444c-4b28-ac3f-baa911ec0f60",
   "metadata": {
    "tags": []
   },
   "source": [
    "**2. Noms des Indices :**"
   ]
  },
  {
   "cell_type": "code",
   "execution_count": 76,
   "id": "b15c4536-6544-4649-9028-056c86bbe0d4",
   "metadata": {
    "tags": []
   },
   "outputs": [
    {
     "name": "stdout",
     "output_type": "stream",
     "text": [
      "0    ['record_00']\n",
      "1    ['record_01']\n",
      "2    ['record_02']\n",
      "3    ['record_03']\n",
      "4    ['record_04']\n",
      "5    ['record_05']\n",
      "6    ['record_06']\n",
      "7    ['record_07']\n",
      "8    ['record_08']\n",
      "9    ['record_09']\n",
      "dtype: object\n",
      "Nombre total de noms d'index : 1001\n"
     ]
    }
   ],
   "source": [
    "index_names = ddf.map_partitions(lambda df: df.index.names).compute()\n",
    "print(index_names[:10])\n",
    "print(f\"Nombre total de noms d'index : {len(index_names)}\")"
   ]
  },
  {
   "cell_type": "code",
   "execution_count": null,
   "id": "ccc46544-e7a6-497d-b259-9154a37ac7b0",
   "metadata": {
    "tags": []
   },
   "outputs": [],
   "source": []
  },
  {
   "cell_type": "code",
   "execution_count": null,
   "id": "2758868a-4fd4-4629-95d4-ccde559a5007",
   "metadata": {
    "tags": []
   },
   "outputs": [],
   "source": []
  },
  {
   "cell_type": "markdown",
   "id": "f611a0c7-9710-4ca9-9989-e0698ba7b79d",
   "metadata": {
    "tags": []
   },
   "source": [
    "**3. Colonnes du DataFrame :**"
   ]
  },
  {
   "cell_type": "code",
   "execution_count": 26,
   "id": "210cf37b-bb70-40d5-94ab-7582c347c691",
   "metadata": {
    "tags": []
   },
   "outputs": [
    {
     "data": {
      "text/plain": [
       "['ALT [ft]',\n",
       " 'EGT_1 [deg C]',\n",
       " 'EGT_2 [deg C]',\n",
       " 'FMV_1 [mm]',\n",
       " 'FMV_2 [mm]',\n",
       " 'HPTACC_1 [%]',\n",
       " 'HPTACC_2 [%]',\n",
       " 'M [Mach]',\n",
       " 'N1_1 [% rpm]',\n",
       " 'N1_2 [% rpm]',\n",
       " 'N2_1 [% rpm]',\n",
       " 'N2_2 [% rpm]',\n",
       " 'NAIV_1 [bool]',\n",
       " 'NAIV_2 [bool]',\n",
       " 'P0_1 [psia]',\n",
       " 'P0_2 [psia]',\n",
       " 'PRV_1 [bool]',\n",
       " 'PRV_2 [bool]',\n",
       " 'PS3_1 [psia]',\n",
       " 'PS3_2 [psia]',\n",
       " 'PT2_1 [mbar]',\n",
       " 'PT2_2 [mbar]',\n",
       " 'P_OIL_1 [psi]',\n",
       " 'P_OIL_2 [psi]',\n",
       " 'Q_1 [lb/h]',\n",
       " 'Q_2 [lb/h]',\n",
       " 'T1_1 [deg C]',\n",
       " 'T1_2 [deg C]',\n",
       " 'T2_1 [deg C]',\n",
       " 'T2_2 [deg C]',\n",
       " 'T3_1 [deg C]',\n",
       " 'T3_2 [deg C]',\n",
       " 'T5_1 [deg C]',\n",
       " 'T5_2 [deg C]',\n",
       " 'TAT [deg C]',\n",
       " 'TBV_1 [%]',\n",
       " 'TBV_2 [%]',\n",
       " 'TCASE_1 [deg C]',\n",
       " 'TCASE_2 [deg C]',\n",
       " 'TLA_1 [deg]',\n",
       " 'TLA_2 [deg]',\n",
       " 'T_OIL_1 [deg C]',\n",
       " 'T_OIL_2 [deg C]',\n",
       " 'VBV_1 [mm]',\n",
       " 'VBV_2 [mm]',\n",
       " 'VIB_AN1_1 [mils]',\n",
       " 'VIB_AN1_2 [mils]',\n",
       " 'VIB_AN2_1 [ips]',\n",
       " 'VIB_AN2_2 [ips]',\n",
       " 'VIB_BN1_1 [mils]',\n",
       " 'VIB_BN1_2 [mils]',\n",
       " 'VIB_BN2_1 [ips]',\n",
       " 'VIB_BN2_2 [ips]',\n",
       " 'VSV_1 [mm]',\n",
       " 'VSV_2 [mm]']"
      ]
     },
     "execution_count": 26,
     "metadata": {},
     "output_type": "execute_result"
    }
   ],
   "source": [
    "ddf.columns.tolist() "
   ]
  },
  {
   "cell_type": "code",
   "execution_count": null,
   "id": "2b05d445-9598-4806-af3d-1d566cbda838",
   "metadata": {
    "tags": []
   },
   "outputs": [],
   "source": []
  },
  {
   "cell_type": "markdown",
   "id": "bc1a7fb6-207c-4be9-bce8-9279911f0ffa",
   "metadata": {
    "tags": []
   },
   "source": [
    "**4. Types de Données :**"
   ]
  },
  {
   "cell_type": "code",
   "execution_count": 28,
   "id": "b9080820-a48d-473c-a537-5fc519fff8ef",
   "metadata": {
    "tags": []
   },
   "outputs": [
    {
     "data": {
      "text/plain": [
       "ALT [ft]            float64\n",
       "EGT_1 [deg C]       float64\n",
       "EGT_2 [deg C]       float64\n",
       "FMV_1 [mm]          float64\n",
       "FMV_2 [mm]          float64\n",
       "HPTACC_1 [%]        float64\n",
       "HPTACC_2 [%]        float64\n",
       "M [Mach]            float64\n",
       "N1_1 [% rpm]        float64\n",
       "N1_2 [% rpm]        float64\n",
       "N2_1 [% rpm]        float64\n",
       "N2_2 [% rpm]        float64\n",
       "NAIV_1 [bool]       float64\n",
       "NAIV_2 [bool]       float64\n",
       "P0_1 [psia]         float64\n",
       "P0_2 [psia]         float64\n",
       "PRV_1 [bool]        float64\n",
       "PRV_2 [bool]        float64\n",
       "PS3_1 [psia]        float64\n",
       "PS3_2 [psia]        float64\n",
       "PT2_1 [mbar]        float64\n",
       "PT2_2 [mbar]        float64\n",
       "P_OIL_1 [psi]       float64\n",
       "P_OIL_2 [psi]       float64\n",
       "Q_1 [lb/h]          float64\n",
       "Q_2 [lb/h]          float64\n",
       "T1_1 [deg C]        float64\n",
       "T1_2 [deg C]        float64\n",
       "T2_1 [deg C]        float64\n",
       "T2_2 [deg C]        float64\n",
       "T3_1 [deg C]        float64\n",
       "T3_2 [deg C]        float64\n",
       "T5_1 [deg C]        float64\n",
       "T5_2 [deg C]        float64\n",
       "TAT [deg C]         float64\n",
       "TBV_1 [%]           float64\n",
       "TBV_2 [%]           float64\n",
       "TCASE_1 [deg C]     float64\n",
       "TCASE_2 [deg C]     float64\n",
       "TLA_1 [deg]         float64\n",
       "TLA_2 [deg]         float64\n",
       "T_OIL_1 [deg C]     float64\n",
       "T_OIL_2 [deg C]     float64\n",
       "VBV_1 [mm]          float64\n",
       "VBV_2 [mm]          float64\n",
       "VIB_AN1_1 [mils]    float64\n",
       "VIB_AN1_2 [mils]    float64\n",
       "VIB_AN2_1 [ips]     float64\n",
       "VIB_AN2_2 [ips]     float64\n",
       "VIB_BN1_1 [mils]    float64\n",
       "VIB_BN1_2 [mils]    float64\n",
       "VIB_BN2_1 [ips]     float64\n",
       "VIB_BN2_2 [ips]     float64\n",
       "VSV_1 [mm]          float64\n",
       "VSV_2 [mm]          float64\n",
       "dtype: object"
      ]
     },
     "execution_count": 28,
     "metadata": {},
     "output_type": "execute_result"
    }
   ],
   "source": [
    "ddf.dtypes"
   ]
  },
  {
   "cell_type": "markdown",
   "id": "a4d4ba8c-a8de-43e6-bf71-5ffdad07ee30",
   "metadata": {
    "tags": []
   },
   "source": [
    "**5. Aperçu d'une Partition :**"
   ]
  },
  {
   "cell_type": "code",
   "execution_count": 29,
   "id": "d049043b-5fa0-4ec9-8215-efc9a2b72d4c",
   "metadata": {
    "tags": []
   },
   "outputs": [
    {
     "data": {
      "text/html": [
       "<div>\n",
       "<style scoped>\n",
       "    .dataframe tbody tr th:only-of-type {\n",
       "        vertical-align: middle;\n",
       "    }\n",
       "\n",
       "    .dataframe tbody tr th {\n",
       "        vertical-align: top;\n",
       "    }\n",
       "\n",
       "    .dataframe thead th {\n",
       "        text-align: right;\n",
       "    }\n",
       "</style>\n",
       "<table border=\"1\" class=\"dataframe\">\n",
       "  <thead>\n",
       "    <tr style=\"text-align: right;\">\n",
       "      <th></th>\n",
       "      <th>ALT [ft]</th>\n",
       "      <th>EGT_1 [deg C]</th>\n",
       "      <th>EGT_2 [deg C]</th>\n",
       "      <th>FMV_1 [mm]</th>\n",
       "      <th>FMV_2 [mm]</th>\n",
       "      <th>HPTACC_1 [%]</th>\n",
       "      <th>HPTACC_2 [%]</th>\n",
       "      <th>M [Mach]</th>\n",
       "      <th>N1_1 [% rpm]</th>\n",
       "      <th>N1_2 [% rpm]</th>\n",
       "      <th>...</th>\n",
       "      <th>VIB_AN1_1 [mils]</th>\n",
       "      <th>VIB_AN1_2 [mils]</th>\n",
       "      <th>VIB_AN2_1 [ips]</th>\n",
       "      <th>VIB_AN2_2 [ips]</th>\n",
       "      <th>VIB_BN1_1 [mils]</th>\n",
       "      <th>VIB_BN1_2 [mils]</th>\n",
       "      <th>VIB_BN2_1 [ips]</th>\n",
       "      <th>VIB_BN2_2 [ips]</th>\n",
       "      <th>VSV_1 [mm]</th>\n",
       "      <th>VSV_2 [mm]</th>\n",
       "    </tr>\n",
       "    <tr>\n",
       "      <th>record_00</th>\n",
       "      <th></th>\n",
       "      <th></th>\n",
       "      <th></th>\n",
       "      <th></th>\n",
       "      <th></th>\n",
       "      <th></th>\n",
       "      <th></th>\n",
       "      <th></th>\n",
       "      <th></th>\n",
       "      <th></th>\n",
       "      <th></th>\n",
       "      <th></th>\n",
       "      <th></th>\n",
       "      <th></th>\n",
       "      <th></th>\n",
       "      <th></th>\n",
       "      <th></th>\n",
       "      <th></th>\n",
       "      <th></th>\n",
       "      <th></th>\n",
       "      <th></th>\n",
       "    </tr>\n",
       "  </thead>\n",
       "  <tbody>\n",
       "    <tr>\n",
       "      <th>0</th>\n",
       "      <td>-4.636641</td>\n",
       "      <td>33.494949</td>\n",
       "      <td>33.494949</td>\n",
       "      <td>-0.64553</td>\n",
       "      <td>-0.64913</td>\n",
       "      <td>4.637541</td>\n",
       "      <td>34.737062</td>\n",
       "      <td>0.0</td>\n",
       "      <td>0.0</td>\n",
       "      <td>0.0</td>\n",
       "      <td>...</td>\n",
       "      <td>0.0</td>\n",
       "      <td>0.0</td>\n",
       "      <td>0.0</td>\n",
       "      <td>0.0</td>\n",
       "      <td>0.0</td>\n",
       "      <td>0.0</td>\n",
       "      <td>0.0</td>\n",
       "      <td>0.0</td>\n",
       "      <td>56.59227</td>\n",
       "      <td>56.529748</td>\n",
       "    </tr>\n",
       "    <tr>\n",
       "      <th>1</th>\n",
       "      <td>-4.636641</td>\n",
       "      <td>33.494949</td>\n",
       "      <td>33.494949</td>\n",
       "      <td>-0.64553</td>\n",
       "      <td>-0.64913</td>\n",
       "      <td>4.637541</td>\n",
       "      <td>34.737062</td>\n",
       "      <td>0.0</td>\n",
       "      <td>0.0</td>\n",
       "      <td>0.0</td>\n",
       "      <td>...</td>\n",
       "      <td>0.0</td>\n",
       "      <td>0.0</td>\n",
       "      <td>0.0</td>\n",
       "      <td>0.0</td>\n",
       "      <td>0.0</td>\n",
       "      <td>0.0</td>\n",
       "      <td>0.0</td>\n",
       "      <td>0.0</td>\n",
       "      <td>56.59227</td>\n",
       "      <td>56.529748</td>\n",
       "    </tr>\n",
       "    <tr>\n",
       "      <th>2</th>\n",
       "      <td>-4.636641</td>\n",
       "      <td>33.494949</td>\n",
       "      <td>33.494949</td>\n",
       "      <td>-0.64553</td>\n",
       "      <td>-0.64913</td>\n",
       "      <td>4.696870</td>\n",
       "      <td>34.737062</td>\n",
       "      <td>0.0</td>\n",
       "      <td>0.0</td>\n",
       "      <td>0.0</td>\n",
       "      <td>...</td>\n",
       "      <td>0.0</td>\n",
       "      <td>0.0</td>\n",
       "      <td>0.0</td>\n",
       "      <td>0.0</td>\n",
       "      <td>0.0</td>\n",
       "      <td>0.0</td>\n",
       "      <td>0.0</td>\n",
       "      <td>0.0</td>\n",
       "      <td>56.59227</td>\n",
       "      <td>56.592270</td>\n",
       "    </tr>\n",
       "    <tr>\n",
       "      <th>3</th>\n",
       "      <td>-4.636641</td>\n",
       "      <td>33.494949</td>\n",
       "      <td>33.494949</td>\n",
       "      <td>-0.64553</td>\n",
       "      <td>-0.64913</td>\n",
       "      <td>4.696870</td>\n",
       "      <td>34.737062</td>\n",
       "      <td>0.0</td>\n",
       "      <td>0.0</td>\n",
       "      <td>0.0</td>\n",
       "      <td>...</td>\n",
       "      <td>0.0</td>\n",
       "      <td>0.0</td>\n",
       "      <td>0.0</td>\n",
       "      <td>0.0</td>\n",
       "      <td>0.0</td>\n",
       "      <td>0.0</td>\n",
       "      <td>0.0</td>\n",
       "      <td>0.0</td>\n",
       "      <td>56.59227</td>\n",
       "      <td>56.529748</td>\n",
       "    </tr>\n",
       "    <tr>\n",
       "      <th>4</th>\n",
       "      <td>-4.636641</td>\n",
       "      <td>33.494949</td>\n",
       "      <td>33.494949</td>\n",
       "      <td>-0.64553</td>\n",
       "      <td>-0.64913</td>\n",
       "      <td>4.696870</td>\n",
       "      <td>34.737062</td>\n",
       "      <td>0.0</td>\n",
       "      <td>0.0</td>\n",
       "      <td>0.0</td>\n",
       "      <td>...</td>\n",
       "      <td>0.0</td>\n",
       "      <td>0.0</td>\n",
       "      <td>0.0</td>\n",
       "      <td>0.0</td>\n",
       "      <td>0.0</td>\n",
       "      <td>0.0</td>\n",
       "      <td>0.0</td>\n",
       "      <td>0.0</td>\n",
       "      <td>56.59227</td>\n",
       "      <td>56.529748</td>\n",
       "    </tr>\n",
       "  </tbody>\n",
       "</table>\n",
       "<p>5 rows × 55 columns</p>\n",
       "</div>"
      ],
      "text/plain": [
       "           ALT [ft]  EGT_1 [deg C]  EGT_2 [deg C]  FMV_1 [mm]  FMV_2 [mm]  \\\n",
       "record_00                                                                   \n",
       "0         -4.636641      33.494949      33.494949    -0.64553    -0.64913   \n",
       "1         -4.636641      33.494949      33.494949    -0.64553    -0.64913   \n",
       "2         -4.636641      33.494949      33.494949    -0.64553    -0.64913   \n",
       "3         -4.636641      33.494949      33.494949    -0.64553    -0.64913   \n",
       "4         -4.636641      33.494949      33.494949    -0.64553    -0.64913   \n",
       "\n",
       "           HPTACC_1 [%]  HPTACC_2 [%]  M [Mach]  N1_1 [% rpm]  N1_2 [% rpm]  \\\n",
       "record_00                                                                     \n",
       "0              4.637541     34.737062       0.0           0.0           0.0   \n",
       "1              4.637541     34.737062       0.0           0.0           0.0   \n",
       "2              4.696870     34.737062       0.0           0.0           0.0   \n",
       "3              4.696870     34.737062       0.0           0.0           0.0   \n",
       "4              4.696870     34.737062       0.0           0.0           0.0   \n",
       "\n",
       "           ...  VIB_AN1_1 [mils]  VIB_AN1_2 [mils]  VIB_AN2_1 [ips]  \\\n",
       "record_00  ...                                                        \n",
       "0          ...               0.0               0.0              0.0   \n",
       "1          ...               0.0               0.0              0.0   \n",
       "2          ...               0.0               0.0              0.0   \n",
       "3          ...               0.0               0.0              0.0   \n",
       "4          ...               0.0               0.0              0.0   \n",
       "\n",
       "           VIB_AN2_2 [ips]  VIB_BN1_1 [mils]  VIB_BN1_2 [mils]  \\\n",
       "record_00                                                        \n",
       "0                      0.0               0.0               0.0   \n",
       "1                      0.0               0.0               0.0   \n",
       "2                      0.0               0.0               0.0   \n",
       "3                      0.0               0.0               0.0   \n",
       "4                      0.0               0.0               0.0   \n",
       "\n",
       "           VIB_BN2_1 [ips]  VIB_BN2_2 [ips]  VSV_1 [mm]  VSV_2 [mm]  \n",
       "record_00                                                            \n",
       "0                      0.0              0.0    56.59227   56.529748  \n",
       "1                      0.0              0.0    56.59227   56.529748  \n",
       "2                      0.0              0.0    56.59227   56.592270  \n",
       "3                      0.0              0.0    56.59227   56.529748  \n",
       "4                      0.0              0.0    56.59227   56.529748  \n",
       "\n",
       "[5 rows x 55 columns]"
      ]
     },
     "execution_count": 29,
     "metadata": {},
     "output_type": "execute_result"
    }
   ],
   "source": [
    " ddf.get_partition(0).head()"
   ]
  },
  {
   "cell_type": "markdown",
   "id": "a79fd4f2-dd67-436d-adae-6f6901141135",
   "metadata": {
    "jp-MarkdownHeadingCollapsed": true,
    "tags": []
   },
   "source": [
    "## **Exercice 4 : Manipulation avancée avec Dask et comparaison avec Pandas**"
   ]
  },
  {
   "cell_type": "markdown",
   "id": "5ba4390a-cee9-4d09-9bc7-95bf6fd0bd8e",
   "metadata": {},
   "source": [
    "Après avoir exploré les bases de `Dask DataFrame`, poursuivons avec des opérations plus avancées. L'objectif est de comprendre et de comparer le comportement de Dask par rapport à Pandas, notamment en termes de performances.\n",
    "\n",
    "### **Objectifs :**\n",
    "\n",
    "1. **Maximum de la colonne Vitesse** :\n",
    "   - Utilisez `map_partitions` pour trouver la vitesse maximale (`SPEED`) de chaque partition dans `ddf`.\n",
    "   - Calculez le temps d'exécution avec `%time`.\n",
    "\n",
    "2. **Extraction de la ligne avec la vitesse maximale** :\n",
    "   - Sélectionnez une partition spécifique de `ddf` (par exemple, la 676ème partition) et trouvez la ligne ayant la vitesse maximale.\n",
    "   - Utilisez une fonction personnalisée pour obtenir la ligne avec la vitesse maximale pour chaque partition.\n",
    "\n",
    "3. **Comparaison avec Pandas** :\n",
    "   - Lisez le fichier HDF5 du premier avion avec Pandas et obtenez la liste des clés.\n",
    "   - Comptez le nombre d'enregistrements et vérifiez les DataFrames vides.\n",
    "   - Supprimez les enregistrements vides.\n",
    "   - Mesurez le temps d'exécution pour trouver la ligne avec la vitesse maximale pour chaque DataFrame dans votre fichier avec Pandas.\n",
    "\n",
    "### **Astuces :**\n",
    "\n",
    "- La méthode `idxmax()` donne l'index de la première occurrence de la valeur maximale.\n",
    "- Vous pouvez mesurer le temps d'exécution d'une cellule dans un notebook Jupyter avec la commande magique `%time`.\n",
    "\n",
    "### **Bonus :**\n",
    "\n",
    "- Essayez d'optimiser vos fonctions pour réduire le temps d'exécution.\n",
    "- Comparez les résultats obtenus avec Dask et Pandas pour vérifier leur cohérence.\n",
    "- Réfléchissez à des scénarios où l'utilisation de Dask serait préférable à celle de Pandas et vice-versa.\n",
    "\n",
    "Bonne chance !"
   ]
  },
  {
   "cell_type": "markdown",
   "id": "20fc36d5-7d43-48ab-b140-432221011d42",
   "metadata": {},
   "source": [
    "1. **Maximum de la colonne Vitesse :** "
   ]
  },
  {
   "cell_type": "code",
   "execution_count": 37,
   "id": "e459d4f9-5970-4a24-907b-b62a5ddc7225",
   "metadata": {
    "tags": []
   },
   "outputs": [
    {
     "name": "stdout",
     "output_type": "stream",
     "text": [
      "CPU times: total: 5.25 s\n",
      "Wall time: 34.6 s\n",
      "Vitesse maximale de chaque partition (Mach) : 0       0.640898\n",
      "1       0.649114\n",
      "2       0.624464\n",
      "3       0.632681\n",
      "4       0.599814\n",
      "          ...   \n",
      "996     0.583381\n",
      "997     0.640898\n",
      "998     0.624464\n",
      "999     0.632681\n",
      "1000    0.632681\n",
      "Length: 1001, dtype: float64\n"
     ]
    }
   ],
   "source": [
    "%time max_mach_speed = ddf['M [Mach]'].map_partitions(lambda df: df.max()).compute()\n",
    "print(\"Vitesse maximale de chaque partition (Mach) :\", max_mach_speed)\n"
   ]
  },
  {
   "cell_type": "markdown",
   "id": "157a35e6-39d3-4b5e-90f0-c23fc72986fd",
   "metadata": {},
   "source": [
    "2. **Extraction de la ligne avec la vitesse maximale :**"
   ]
  },
  {
   "cell_type": "code",
   "execution_count": 40,
   "id": "8f34530f-6679-41d7-aca7-7ff925a95b2e",
   "metadata": {
    "tags": []
   },
   "outputs": [
    {
     "name": "stdout",
     "output_type": "stream",
     "text": [
      "Ligne avec la vitesse maximale dans la partition 676: \n",
      "                ALT [ft]  EGT_1 [deg C]  EGT_2 [deg C]  FMV_1 [mm]  \\\n",
      "record_704                                                           \n",
      "2282        39397.534736     725.067141     735.903742    9.798227   \n",
      "2283        39397.534736     722.111704     733.933451    9.729063   \n",
      "2284        39397.534736     720.141413     731.963160    9.659899   \n",
      "2285        39397.534736     718.171122     729.007723    9.659899   \n",
      "2286        39397.534736     716.200831     727.037432    9.659899   \n",
      "...                  ...            ...            ...         ...   \n",
      "3305        39406.808017     646.255495     655.121805    8.933677   \n",
      "3306        39411.444658     645.270350     655.121805    8.933677   \n",
      "3307        39411.444658     645.270350     655.121805    8.933677   \n",
      "3308        39411.444658     645.270350     655.121805    8.933677   \n",
      "3309        39416.081299     645.270350     655.121805    9.002841   \n",
      "\n",
      "            FMV_2 [mm]  HPTACC_1 [%]  HPTACC_2 [%]  M [Mach]  N1_1 [% rpm]  \\\n",
      "record_704                                                                   \n",
      "2282          9.783312     98.881474     98.822145  0.649114    104.471226   \n",
      "2283          9.783312     98.822145     98.881474  0.649114    104.177139   \n",
      "2284          9.713762     98.822145     98.881474  0.649114    103.883053   \n",
      "2285          9.713762     98.822145     98.762816  0.649114    103.518386   \n",
      "2286          9.632621     98.762816     98.762816  0.649114    103.294880   \n",
      "...                ...           ...           ...       ...           ...   \n",
      "3305          8.983491     79.233725     98.881474  0.649114     97.119067   \n",
      "3306          8.983491     79.233725     98.881474  0.649114     97.119067   \n",
      "3307          8.983491     79.045850     98.881474  0.649114     97.271992   \n",
      "3308          8.983491     78.917304     98.881474  0.649114     97.413154   \n",
      "3309          9.053041     78.986521     98.881474  0.649114     97.566079   \n",
      "\n",
      "            N1_2 [% rpm]  ...  VIB_AN1_1 [mils]  VIB_AN1_2 [mils]  \\\n",
      "record_704                ...                                       \n",
      "2282          104.553570  ...          0.072908          0.729084   \n",
      "2283          104.106559  ...          0.072908          0.729084   \n",
      "2284          103.812472  ...          0.072908          0.656176   \n",
      "2285          103.671311  ...          0.072908          0.656176   \n",
      "2286          103.294880  ...          0.072908          0.656176   \n",
      "...                  ...  ...               ...               ...   \n",
      "3305           97.201412  ...          0.218725          0.874901   \n",
      "3306           97.201412  ...          0.218725          0.874901   \n",
      "3307           97.271992  ...          0.218725          0.874901   \n",
      "3308           97.342573  ...          0.218725          0.874901   \n",
      "3309           97.566079  ...          0.218725          0.874901   \n",
      "\n",
      "            VIB_AN2_1 [ips]  VIB_AN2_2 [ips]  VIB_BN1_1 [mils]  \\\n",
      "record_704                                                       \n",
      "2282               0.109363         0.036454          0.583267   \n",
      "2283               0.109363         0.036454          0.510359   \n",
      "2284               0.109363         0.036454          0.437450   \n",
      "2285               0.109363         0.036454          0.437450   \n",
      "2286               0.109363         0.000000          0.364542   \n",
      "...                     ...              ...               ...   \n",
      "3305               0.072908         0.036454          0.291634   \n",
      "3306               0.036454         0.036454          0.291634   \n",
      "3307               0.036454         0.036454          0.291634   \n",
      "3308               0.036454         0.036454          0.291634   \n",
      "3309               0.036454         0.036454          0.291634   \n",
      "\n",
      "            VIB_BN1_2 [mils]  VIB_BN2_1 [ips]  VIB_BN2_2 [ips]  VSV_1 [mm]  \\\n",
      "record_704                                                                   \n",
      "2282                1.020718         0.036454         0.072908   11.462253   \n",
      "2283                1.020718         0.000000         0.072908   11.462253   \n",
      "2284                0.947809         0.036454         0.072908   11.462253   \n",
      "2285                0.947809         0.036454         0.072908   11.597716   \n",
      "2286                0.947809         0.036454         0.072908   11.524774   \n",
      "...                      ...              ...              ...         ...   \n",
      "3305                1.239443         0.364542         0.255179   11.201747   \n",
      "3306                1.239443         0.364542         0.255179   11.201747   \n",
      "3307                1.166534         0.364542         0.255179   10.555693   \n",
      "3308                1.166534         0.364542         0.255179   10.295187   \n",
      "3309                1.166534         0.364542         0.255179   10.034682   \n",
      "\n",
      "            VSV_2 [mm]  \n",
      "record_704              \n",
      "2282         11.785280  \n",
      "2283         11.858222  \n",
      "2284         11.858222  \n",
      "2285         11.920743  \n",
      "2286         11.920743  \n",
      "...                ...  \n",
      "3305         11.722759  \n",
      "3306         11.660237  \n",
      "3307         11.201747  \n",
      "3308         10.743257  \n",
      "3309         10.222246  \n",
      "\n",
      "[519 rows x 55 columns]\n"
     ]
    }
   ],
   "source": [
    "partition_index = 676\n",
    "partition_df = ddf.get_partition(partition_index)\n",
    "\n",
    "def get_max_speed_row(df):\n",
    "    max_row = df.loc[df['M [Mach]'] == df['M [Mach]'].max()]\n",
    "    return max_row\n",
    "\n",
    "max_speed_row_partition = get_max_speed_row(partition_df)\n",
    "\n",
    "print(\"Ligne avec la vitesse maximale dans la partition {}: \".format(partition_index))\n",
    "print(max_speed_row_partition.compute())"
   ]
  },
  {
   "cell_type": "code",
   "execution_count": null,
   "id": "6216fc6f-893b-4b38-a7d1-b040cd326e07",
   "metadata": {
    "tags": []
   },
   "outputs": [],
   "source": []
  },
  {
   "cell_type": "markdown",
   "id": "eeaa80cb-9428-4ae6-b857-3244ca617880",
   "metadata": {},
   "source": [
    "3. **Comparaison avec Pandas :**"
   ]
  },
  {
   "cell_type": "code",
   "execution_count": 74,
   "id": "d5f02ce5-a9db-41e9-bec5-405551aee613",
   "metadata": {
    "tags": []
   },
   "outputs": [
    {
     "name": "stderr",
     "output_type": "stream",
     "text": [
      "<>:7: SyntaxWarning: invalid escape sequence '\\D'\n",
      "<>:7: SyntaxWarning: invalid escape sequence '\\D'\n",
      "C:\\Users\\Younes\\AppData\\Local\\Temp\\ipykernel_16436\\1552233501.py:7: SyntaxWarning: invalid escape sequence '\\D'\n",
      "  store = pd.HDFStore(\"D:\\DL\\TD_data_science\\MACS3_Stats_TDs\\extracted_files\\Aircraft_02.h5\")\n"
     ]
    },
    {
     "name": "stdout",
     "output_type": "stream",
     "text": [
      "Liste des clés dans le fichier HDF5 : ['/record_00', '/record_01', '/record_02', '/record_03', '/record_04', '/record_05', '/record_06', '/record_07', '/record_08', '/record_09', '/record_10', '/record_100', '/record_1000', '/record_1001', '/record_101', '/record_102', '/record_103', '/record_104', '/record_105', '/record_106', '/record_107', '/record_108', '/record_109', '/record_11', '/record_110', '/record_111', '/record_112', '/record_113', '/record_114', '/record_115', '/record_116', '/record_117', '/record_118', '/record_119', '/record_12', '/record_120', '/record_121', '/record_122', '/record_123', '/record_124', '/record_125', '/record_126', '/record_127', '/record_128', '/record_129', '/record_13', '/record_130', '/record_131', '/record_132', '/record_133', '/record_134', '/record_135', '/record_136', '/record_137', '/record_138', '/record_139', '/record_14', '/record_140', '/record_141', '/record_142', '/record_143', '/record_144', '/record_145', '/record_146', '/record_147', '/record_148', '/record_149', '/record_15', '/record_150', '/record_151', '/record_152', '/record_153', '/record_154', '/record_155', '/record_156', '/record_157', '/record_158', '/record_159', '/record_16', '/record_160', '/record_161', '/record_162', '/record_163', '/record_164', '/record_165', '/record_166', '/record_167', '/record_168', '/record_169', '/record_17', '/record_170', '/record_171', '/record_172', '/record_173', '/record_174', '/record_175', '/record_176', '/record_177', '/record_178', '/record_179', '/record_18', '/record_180', '/record_181', '/record_182', '/record_183', '/record_184', '/record_185', '/record_186', '/record_187', '/record_188', '/record_189', '/record_19', '/record_190', '/record_191', '/record_192', '/record_193', '/record_194', '/record_195', '/record_196', '/record_197', '/record_198', '/record_199', '/record_20', '/record_200', '/record_201', '/record_202', '/record_203', '/record_204', '/record_205', '/record_206', '/record_207', '/record_208', '/record_209', '/record_21', '/record_210', '/record_211', '/record_212', '/record_213', '/record_214', '/record_215', '/record_216', '/record_217', '/record_218', '/record_219', '/record_22', '/record_220', '/record_221', '/record_222', '/record_223', '/record_224', '/record_225', '/record_226', '/record_227', '/record_228', '/record_229', '/record_23', '/record_230', '/record_231', '/record_232', '/record_233', '/record_234', '/record_235', '/record_236', '/record_237', '/record_238', '/record_239', '/record_24', '/record_240', '/record_241', '/record_242', '/record_243', '/record_244', '/record_245', '/record_246', '/record_247', '/record_248', '/record_249', '/record_25', '/record_250', '/record_251', '/record_252', '/record_253', '/record_254', '/record_255', '/record_256', '/record_257', '/record_258', '/record_259', '/record_26', '/record_260', '/record_261', '/record_262', '/record_263', '/record_264', '/record_265', '/record_266', '/record_267', '/record_268', '/record_269', '/record_27', '/record_270', '/record_271', '/record_272', '/record_273', '/record_274', '/record_275', '/record_276', '/record_277', '/record_278', '/record_279', '/record_28', '/record_280', '/record_281', '/record_282', '/record_283', '/record_284', '/record_285', '/record_286', '/record_287', '/record_288', '/record_289', '/record_29', '/record_290', '/record_291', '/record_292', '/record_293', '/record_294', '/record_295', '/record_296', '/record_297', '/record_298', '/record_299', '/record_30', '/record_300', '/record_301', '/record_302', '/record_303', '/record_304', '/record_305', '/record_306', '/record_307', '/record_308', '/record_309', '/record_31', '/record_310', '/record_311', '/record_312', '/record_313', '/record_314', '/record_315', '/record_316', '/record_317', '/record_318', '/record_319', '/record_32', '/record_320', '/record_321', '/record_322', '/record_323', '/record_324', '/record_325', '/record_326', '/record_327', '/record_328', '/record_329', '/record_33', '/record_330', '/record_331', '/record_332', '/record_333', '/record_334', '/record_335', '/record_336', '/record_337', '/record_338', '/record_339', '/record_34', '/record_340', '/record_341', '/record_342', '/record_343', '/record_344', '/record_345', '/record_346', '/record_347', '/record_348', '/record_349', '/record_35', '/record_350', '/record_351', '/record_352', '/record_353', '/record_354', '/record_355', '/record_356', '/record_357', '/record_358', '/record_359', '/record_36', '/record_360', '/record_361', '/record_362', '/record_363', '/record_364', '/record_365', '/record_366', '/record_367', '/record_368', '/record_369', '/record_37', '/record_370', '/record_371', '/record_372', '/record_373', '/record_374', '/record_375', '/record_376', '/record_377', '/record_378', '/record_379', '/record_38', '/record_380', '/record_381', '/record_382', '/record_383', '/record_384', '/record_385', '/record_386', '/record_387', '/record_388', '/record_389', '/record_39', '/record_390', '/record_391', '/record_392', '/record_393', '/record_394', '/record_395', '/record_396', '/record_397', '/record_398', '/record_399', '/record_40', '/record_400', '/record_401', '/record_402', '/record_403', '/record_404', '/record_405', '/record_406', '/record_407', '/record_408', '/record_409', '/record_41', '/record_410', '/record_411', '/record_412', '/record_413', '/record_414', '/record_415', '/record_416', '/record_417', '/record_418', '/record_419', '/record_42', '/record_420', '/record_421', '/record_422', '/record_423', '/record_424', '/record_425', '/record_426', '/record_427', '/record_428', '/record_429', '/record_43', '/record_430', '/record_431', '/record_432', '/record_433', '/record_434', '/record_435', '/record_436', '/record_437', '/record_438', '/record_439', '/record_44', '/record_440', '/record_441', '/record_442', '/record_443', '/record_444', '/record_445', '/record_446', '/record_447', '/record_448', '/record_449', '/record_45', '/record_450', '/record_451', '/record_452', '/record_453', '/record_454', '/record_455', '/record_456', '/record_457', '/record_458', '/record_459', '/record_46', '/record_460', '/record_461', '/record_462', '/record_463', '/record_464', '/record_465', '/record_466', '/record_467', '/record_468', '/record_469', '/record_47', '/record_470', '/record_471', '/record_472', '/record_473', '/record_474', '/record_475', '/record_476', '/record_477', '/record_478', '/record_479', '/record_48', '/record_480', '/record_481', '/record_482', '/record_483', '/record_484', '/record_485', '/record_486', '/record_487', '/record_488', '/record_489', '/record_49', '/record_490', '/record_491', '/record_492', '/record_493', '/record_494', '/record_495', '/record_496', '/record_497', '/record_498', '/record_499', '/record_50', '/record_500', '/record_501', '/record_502', '/record_503', '/record_504', '/record_505', '/record_506', '/record_507', '/record_508', '/record_509', '/record_51', '/record_510', '/record_511', '/record_512', '/record_513', '/record_514', '/record_515', '/record_516', '/record_517', '/record_518', '/record_519', '/record_52', '/record_520', '/record_521', '/record_522', '/record_523', '/record_524', '/record_525', '/record_526', '/record_527', '/record_528', '/record_529', '/record_53', '/record_530', '/record_531', '/record_532', '/record_533', '/record_534', '/record_535', '/record_536', '/record_537', '/record_538', '/record_539', '/record_54', '/record_540', '/record_541', '/record_542', '/record_543', '/record_544', '/record_545', '/record_546', '/record_547', '/record_548', '/record_549', '/record_55', '/record_550', '/record_551', '/record_552', '/record_553', '/record_554', '/record_555', '/record_556', '/record_557', '/record_558', '/record_559', '/record_56', '/record_560', '/record_561', '/record_562', '/record_563', '/record_564', '/record_565', '/record_566', '/record_567', '/record_568', '/record_569', '/record_57', '/record_570', '/record_571', '/record_572', '/record_573', '/record_574', '/record_575', '/record_576', '/record_577', '/record_578', '/record_579', '/record_58', '/record_580', '/record_581', '/record_582', '/record_583', '/record_584', '/record_585', '/record_586', '/record_587', '/record_588', '/record_589', '/record_59', '/record_590', '/record_591', '/record_592', '/record_593', '/record_594', '/record_595', '/record_596', '/record_597', '/record_598', '/record_599', '/record_60', '/record_600', '/record_601', '/record_602', '/record_603', '/record_604', '/record_605', '/record_606', '/record_607', '/record_608', '/record_609', '/record_61', '/record_610', '/record_611', '/record_612', '/record_613', '/record_614', '/record_615', '/record_616', '/record_617', '/record_618', '/record_619', '/record_62', '/record_620', '/record_621', '/record_622', '/record_623', '/record_624', '/record_625', '/record_626', '/record_627', '/record_628', '/record_629', '/record_63', '/record_630', '/record_631', '/record_632', '/record_633', '/record_634', '/record_635', '/record_636', '/record_637', '/record_638', '/record_639', '/record_64', '/record_640', '/record_641', '/record_642', '/record_643', '/record_644', '/record_645', '/record_646', '/record_647', '/record_648', '/record_649', '/record_65', '/record_650', '/record_651', '/record_652', '/record_653', '/record_654', '/record_655', '/record_656', '/record_657', '/record_658', '/record_659', '/record_66', '/record_660', '/record_661', '/record_662', '/record_663', '/record_664', '/record_665', '/record_666', '/record_667', '/record_668', '/record_669', '/record_67', '/record_670', '/record_671', '/record_672', '/record_673', '/record_674', '/record_675', '/record_676', '/record_677', '/record_678', '/record_679', '/record_68', '/record_680', '/record_681', '/record_682', '/record_683', '/record_684', '/record_685', '/record_686', '/record_687', '/record_688', '/record_689', '/record_69', '/record_690', '/record_691', '/record_692', '/record_693', '/record_694', '/record_695', '/record_696', '/record_697', '/record_698', '/record_699', '/record_70', '/record_700', '/record_701', '/record_702', '/record_703', '/record_704', '/record_705', '/record_706', '/record_707', '/record_708', '/record_709', '/record_71', '/record_710', '/record_711', '/record_712', '/record_713', '/record_714', '/record_715', '/record_716', '/record_717', '/record_718', '/record_719', '/record_72', '/record_720', '/record_721', '/record_722', '/record_723', '/record_724', '/record_725', '/record_726', '/record_727', '/record_728', '/record_729', '/record_73', '/record_730', '/record_731', '/record_732', '/record_733', '/record_734', '/record_735', '/record_736', '/record_737', '/record_738', '/record_739', '/record_74', '/record_740', '/record_741', '/record_742', '/record_743', '/record_744', '/record_745', '/record_746', '/record_747', '/record_748', '/record_749', '/record_75', '/record_750', '/record_751', '/record_752', '/record_753', '/record_754', '/record_755', '/record_756', '/record_757', '/record_758', '/record_759', '/record_76', '/record_760', '/record_761', '/record_762', '/record_763', '/record_764', '/record_765', '/record_766', '/record_767', '/record_768', '/record_769', '/record_77', '/record_770', '/record_771', '/record_772', '/record_773', '/record_774', '/record_775', '/record_776', '/record_777', '/record_778', '/record_779', '/record_78', '/record_780', '/record_781', '/record_782', '/record_783', '/record_784', '/record_785', '/record_786', '/record_787', '/record_788', '/record_789', '/record_79', '/record_790', '/record_791', '/record_792', '/record_793', '/record_794', '/record_795', '/record_796', '/record_797', '/record_798', '/record_799', '/record_80', '/record_800', '/record_801', '/record_802', '/record_803', '/record_804', '/record_805', '/record_806', '/record_807', '/record_808', '/record_809', '/record_81', '/record_810', '/record_811', '/record_812', '/record_813', '/record_814', '/record_815', '/record_816', '/record_817', '/record_818', '/record_819', '/record_82', '/record_820', '/record_821', '/record_822', '/record_823', '/record_824', '/record_825', '/record_826', '/record_827', '/record_828', '/record_829', '/record_83', '/record_830', '/record_831', '/record_832', '/record_833', '/record_834', '/record_835', '/record_836', '/record_837', '/record_838', '/record_839', '/record_84', '/record_840', '/record_841', '/record_842', '/record_843', '/record_844', '/record_845', '/record_846', '/record_847', '/record_848', '/record_849', '/record_85', '/record_850', '/record_851', '/record_852', '/record_853', '/record_854', '/record_855', '/record_856', '/record_857', '/record_858', '/record_859', '/record_86', '/record_860', '/record_861', '/record_862', '/record_863', '/record_864', '/record_865', '/record_866', '/record_867', '/record_868', '/record_869', '/record_87', '/record_870', '/record_871', '/record_872', '/record_873', '/record_874', '/record_875', '/record_876', '/record_877', '/record_878', '/record_879', '/record_88', '/record_880', '/record_881', '/record_882', '/record_883', '/record_884', '/record_885', '/record_886', '/record_887', '/record_888', '/record_889', '/record_89', '/record_890', '/record_891', '/record_892', '/record_893', '/record_894', '/record_895', '/record_896', '/record_897', '/record_898', '/record_899', '/record_90', '/record_900', '/record_901', '/record_902', '/record_903', '/record_904', '/record_905', '/record_906', '/record_907', '/record_908', '/record_909', '/record_91', '/record_910', '/record_911', '/record_912', '/record_913', '/record_914', '/record_915', '/record_916', '/record_917', '/record_918', '/record_919', '/record_92', '/record_920', '/record_921', '/record_922', '/record_923', '/record_924', '/record_925', '/record_926', '/record_927', '/record_928', '/record_929', '/record_93', '/record_930', '/record_931', '/record_932', '/record_933', '/record_934', '/record_935', '/record_936', '/record_937', '/record_938', '/record_939', '/record_94', '/record_940', '/record_941', '/record_942', '/record_943', '/record_944', '/record_945', '/record_946', '/record_947', '/record_948', '/record_949', '/record_95', '/record_950', '/record_951', '/record_952', '/record_953', '/record_954', '/record_955', '/record_956', '/record_957', '/record_958', '/record_959', '/record_96', '/record_960', '/record_961', '/record_962', '/record_963', '/record_964', '/record_965', '/record_966', '/record_967', '/record_968', '/record_969', '/record_97', '/record_970', '/record_971', '/record_972', '/record_973', '/record_974', '/record_975', '/record_976', '/record_977', '/record_978', '/record_979', '/record_98', '/record_980', '/record_981', '/record_982', '/record_983', '/record_984', '/record_985', '/record_986', '/record_987', '/record_988', '/record_989', '/record_99', '/record_990', '/record_991', '/record_992', '/record_993', '/record_994', '/record_995', '/record_996', '/record_997', '/record_998', '/record_999']\n"
     ]
    }
   ],
   "source": [
    "# !pip install tables\n",
    "\n",
    "import pandas as pd\n",
    "import tables\n",
    "\n",
    "\n",
    "store = pd.HDFStore(\"D:\\DL\\TD_data_science\\MACS3_Stats_TDs\\extracted_files\\Aircraft_02.h5\")\n",
    "\n",
    "keys = store.keys()\n",
    "print(\"Liste des clés dans le fichier HDF5 :\", keys)\n",
    "\n"
   ]
  },
  {
   "cell_type": "code",
   "execution_count": null,
   "id": "15e8cf40-42d8-47c0-85c0-e97ac6433f6f",
   "metadata": {
    "tags": []
   },
   "outputs": [],
   "source": [
    "..."
   ]
  },
  {
   "cell_type": "code",
   "execution_count": null,
   "id": "b85c34a4-b481-4d02-bfbe-e951f4a435c4",
   "metadata": {
    "tags": []
   },
   "outputs": [],
   "source": [
    "..."
   ]
  },
  {
   "cell_type": "code",
   "execution_count": null,
   "id": "45b65ffc-0ff2-4bb2-9c61-a801c8f2af3f",
   "metadata": {
    "tags": []
   },
   "outputs": [],
   "source": [
    "..."
   ]
  },
  {
   "cell_type": "code",
   "execution_count": null,
   "id": "1a47f870-5369-4dcc-9d99-3977701ecaee",
   "metadata": {
    "tags": []
   },
   "outputs": [],
   "source": [
    "\n"
   ]
  },
  {
   "cell_type": "code",
   "execution_count": null,
   "id": "8e799528-8aa7-4a2f-84ad-a91dd05f68bf",
   "metadata": {
    "tags": []
   },
   "outputs": [],
   "source": [
    "..."
   ]
  },
  {
   "cell_type": "code",
   "execution_count": null,
   "id": "26e40ab7-7658-4ef3-8fb9-2680f5e5e7a8",
   "metadata": {
    "tags": []
   },
   "outputs": [],
   "source": [
    "######################## Avec Tabata ########################\n",
    "#############################################################\n",
    "\n",
    "..."
   ]
  },
  {
   "cell_type": "code",
   "execution_count": null,
   "id": "327e873e-f825-4e9a-95ce-ffcd80e0a3ee",
   "metadata": {},
   "outputs": [],
   "source": []
  },
  {
   "cell_type": "markdown",
   "id": "4cba78ef-c67e-4b8c-9b75-6f1f8226653d",
   "metadata": {
    "jp-MarkdownHeadingCollapsed": true,
    "tags": []
   },
   "source": [
    "## **Exercice 5 : Analyse et Visualisation des Données avec Dask et Plotly**"
   ]
  },
  {
   "cell_type": "markdown",
   "id": "4194ccbe-fde8-42aa-a99a-640a97bb6c38",
   "metadata": {},
   "source": [
    "Dans cette section, nous allons explorer davantage les fonctionnalités offertes par `Dask DataFrame` pour le traitement des données et nous plonger dans la visualisation à l'aide de `matplotlib` et `plotly`.\n",
    "\n",
    "### **Objectifs :**\n",
    "\n",
    "1. **Suppression des colonnes** :\n",
    "   - L'avion est équipé de deux moteurs. Supprimez les colonnes du moteur 2 à l'aide d'une liste prédéfinie.\n",
    "   - Vérifiez les colonnes restantes après suppression.\n",
    "\n",
    "2. **Visualisation de séries temporelles** :\n",
    "   - Définissez une fonction pour visualiser les séries temporelles de colonnes spécifiques d'une partition spécifique.\n",
    "   - Testez cette fonction en visualisant certaines séries temporelles.\n",
    "\n",
    "3. **Calcul de la longueur des vols** :\n",
    "   - Calculez la longueur de chaque vol (nombre d'enregistrements) dans `ddf`.\n",
    "   - Identifiez le vol ayant la durée maximale et minimale.\n",
    "\n",
    "4. **Visualisation de la distribution de la longueur des vols** :\n",
    "   - Utilisez `plotly` pour afficher la distribution de la longueur des vols à l'aide d'un graphique en boîte.\n",
    "\n",
    "### **Astuces :**\n",
    "\n",
    "- La méthode `drop` permet de supprimer des colonnes ou des lignes d'un DataFrame Dask.\n",
    "- Utilisez `map_partitions` pour appliquer des fonctions à chaque partition de `ddf`.\n",
    "- `plotly` est une bibliothèque de visualisation interactive qui peut être utilisée pour afficher une variété de types de graphiques.\n",
    "\n",
    "### **Bonus :**\n",
    "\n",
    "- Essayez d'autres types de visualisations avec `plotly` pour explorer davantage les données.\n",
    "- Réfléchissez à des techniques pour optimiser le traitement et la visualisation des données à l'aide de Dask.\n",
    "- Comparez les temps d'exécution entre différentes opérations pour mieux comprendre les avantages et inconvénients de Dask.\n",
    "\n",
    "Bonne chance !\n"
   ]
  },
  {
   "cell_type": "markdown",
   "id": "ec6203bf-1f7a-46df-9635-76ecb0061188",
   "metadata": {},
   "source": [
    "**1. Suppression des colonnes :**"
   ]
  },
  {
   "cell_type": "code",
   "execution_count": 44,
   "id": "38eb3355-9be2-4d7c-9654-b2f82bc960f0",
   "metadata": {
    "tags": []
   },
   "outputs": [],
   "source": [
    "list_var_e2 = [\n",
    "                   'FMV_2 [mm]', 'HPTACC_2 [%]', \n",
    "                   'N1_2 [% rpm]','N2_2 [% rpm]',\n",
    "                   'NAIV_2 [bool]', 'P0_2 [psia]',\n",
    "                   'PRV_2 [bool]', 'PS3_2 [psia]',\n",
    "                   'PT2_2 [mbar]', 'P_OIL_2 [psi]',\n",
    "                   'Q_2 [lb/h]', 'T1_2 [deg C]',\n",
    "                   'T2_2 [deg C]', 'T3_2 [deg C]',\n",
    "                   'T5_2 [deg C]', 'TBV_2 [%]',\n",
    "                   'TCASE_2 [deg C]', 'TLA_2 [deg]',\n",
    "                   'T_OIL_2 [deg C]', 'VBV_2 [mm]',\n",
    "                   'EGT_2 [deg C]','VIB_AN1_2 [mils]',\n",
    "                   'VIB_AN2_2 [ips]', 'VIB_BN1_2 [mils]',\n",
    "                   'VIB_BN2_2 [ips]', 'VSV_2 [mm]'\n",
    "                ]"
   ]
  },
  {
   "cell_type": "code",
   "execution_count": 45,
   "id": "4e9e23bc-8ec3-4603-8769-9c24923827c0",
   "metadata": {
    "tags": []
   },
   "outputs": [],
   "source": [
    "ddf_filtered = ddf.drop(columns=list_var_e2)\n"
   ]
  },
  {
   "cell_type": "code",
   "execution_count": 46,
   "id": "512019a6-3ee0-4298-992c-de8b6a322dbc",
   "metadata": {
    "tags": []
   },
   "outputs": [
    {
     "name": "stdout",
     "output_type": "stream",
     "text": [
      "Index(['ALT [ft]', 'EGT_1 [deg C]', 'FMV_1 [mm]', 'HPTACC_1 [%]', 'M [Mach]',\n",
      "       'N1_1 [% rpm]', 'N2_1 [% rpm]', 'NAIV_1 [bool]', 'P0_1 [psia]',\n",
      "       'PRV_1 [bool]', 'PS3_1 [psia]', 'PT2_1 [mbar]', 'P_OIL_1 [psi]',\n",
      "       'Q_1 [lb/h]', 'T1_1 [deg C]', 'T2_1 [deg C]', 'T3_1 [deg C]',\n",
      "       'T5_1 [deg C]', 'TAT [deg C]', 'TBV_1 [%]', 'TCASE_1 [deg C]',\n",
      "       'TLA_1 [deg]', 'T_OIL_1 [deg C]', 'VBV_1 [mm]', 'VIB_AN1_1 [mils]',\n",
      "       'VIB_AN2_1 [ips]', 'VIB_BN1_1 [mils]', 'VIB_BN2_1 [ips]', 'VSV_1 [mm]'],\n",
      "      dtype='object')\n"
     ]
    }
   ],
   "source": [
    "print(ddf_filtered.columns)"
   ]
  },
  {
   "cell_type": "markdown",
   "id": "848aee77-9e8d-4cba-946f-726c26505b03",
   "metadata": {},
   "source": [
    "**2. Visualisation de séries temporelles :**"
   ]
  },
  {
   "cell_type": "code",
   "execution_count": 49,
   "id": "3165b16a-3cc5-4834-be84-073c942ada06",
   "metadata": {
    "tags": []
   },
   "outputs": [
    {
     "data": {
      "image/png": "[encoded data removed]",
      "text/plain": [
       "<Figure size 1000x600 with 1 Axes>"
      ]
     },
     "metadata": {},
     "output_type": "display_data"
    }
   ],
   "source": [
    "import matplotlib.pyplot as plt\n",
    "\n",
    "def tracer_serie_temporelle(ddf, numero_partition, colonnes):\n",
    "    \"\"\"\n",
    "    Trace la série temporelle pour les colonnes spécifiées à partir d'une partition donnée dans le DataFrame Dask.\n",
    "    \n",
    "    Paramètres:\n",
    "    - ddf : Dask DataFrame\n",
    "    - numero_partition : Le numéro de la partition à charger à partir du Dask DataFrame.\n",
    "    - colonnes : Une liste de colonnes à tracer.\n",
    "    \"\"\"\n",
    "   \n",
    "    partition = ddf.partitions[numero_partition].compute()\n",
    "\n",
    "   \n",
    "    for colonne in colonnes:\n",
    "        if colonne not in partition.columns:\n",
    "            print(f\"La colonne {colonne} n'existe pas dans la partition.\")\n",
    "            return\n",
    "    \n",
    "  \n",
    "    plt.figure(figsize=(10, 6))\n",
    "    \n",
    "    for colonne in colonnes:\n",
    "        plt.plot(partition[colonne], label=colonne)\n",
    "    \n",
    "   \n",
    "    plt.title(f\"Séries temporelles - Partition {numero_partition}\")\n",
    "    plt.xlabel(\"Index\")\n",
    "    plt.ylabel(\"Valeur\")\n",
    "    plt.legend()\n",
    "    \n",
    " \n",
    "    plt.show()\n",
    "\n",
    "tracer_serie_temporelle(ddf_filtered, 0,  ['EGT_1 [deg C]', 'FMV_1 [mm]', 'HPTACC_1 [%]', 'M [Mach]']) ## J'ai enlevé altitude pour avoir une meilleure visibilité sur le reste des paramètres\n"
   ]
  },
  {
   "cell_type": "markdown",
   "id": "86364e6b-91d3-47c4-9db9-e143f64a2045",
   "metadata": {},
   "source": [
    "**3. Calcul de la longueur des vols :**"
   ]
  },
  {
   "cell_type": "code",
   "execution_count": null,
   "id": "1c660d06-c31c-4cb8-8057-526f957ad74c",
   "metadata": {
    "tags": []
   },
   "outputs": [],
   "source": []
  },
  {
   "cell_type": "code",
   "execution_count": null,
   "id": "9f609955-4d30-44f9-9db2-1d7769bbf3c8",
   "metadata": {
    "tags": []
   },
   "outputs": [],
   "source": [
    "...\n",
    "\n",
    "print(f\"{vol_avec_longueur_max} a la plus grande longueur de vol qui est =\", longueurs_vols[vol_avec_longueur_max])\n",
    "print(f\"{vol_avec_longueur_min} a la plus petite longueur de vol qui est =\", longueurs_vols[vol_avec_longueur_min])"
   ]
  },
  {
   "cell_type": "markdown",
   "id": "6e34567f-00b6-4caf-9e9a-e94463f60b3e",
   "metadata": {},
   "source": [
    "4. **Visualisation de la distribution de la longueur des vols :**"
   ]
  },
  {
   "cell_type": "code",
   "execution_count": null,
   "id": "25d89ef6-d567-4459-8f1f-2329cad3e370",
   "metadata": {
    "tags": []
   },
   "outputs": [],
   "source": [
    "import plotly.express as px\n",
    "..."
   ]
  },
  {
   "cell_type": "code",
   "execution_count": null,
   "id": "27af2f78-a074-4aba-8985-89592894113e",
   "metadata": {},
   "outputs": [],
   "source": []
  },
  {
   "cell_type": "code",
   "execution_count": null,
   "id": "5af4f350-0a10-4641-8b95-8323960bc73b",
   "metadata": {},
   "outputs": [],
   "source": []
  }
 ],
 "metadata": {
  "kernelspec": {
   "display_name": "Python 3 (ipykernel)",
   "language": "python",
   "name": "python3"
  },
  "language_info": {
   "codemirror_mode": {
    "name": "ipython",
    "version": 3
   },
   "file_extension": ".py",
   "mimetype": "text/x-python",
   "name": "python",
   "nbconvert_exporter": "python",
   "pygments_lexer": "ipython3",
   "version": "3.12.1"
  }
 },
 "nbformat": 4,
 "nbformat_minor": 5
}
